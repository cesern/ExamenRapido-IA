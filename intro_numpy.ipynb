{
 "cells": [
  {
   "cell_type": "markdown",
   "metadata": {},
   "source": [
    "<img src=\"imagenes/ia.png\", width=\"200\"\\>\n",
    "# Introducción a Numpy y Matplotlib"
   ]
  },
  {
   "cell_type": "markdown",
   "metadata": {},
   "source": [
    "## Inicialización de una libreta IP[y]"
   ]
  },
  {
   "cell_type": "markdown",
   "metadata": {},
   "source": [
    "Para inicializar la libreta y poderla utilizar con `numpy` y `matplotlib`, y asegurarse que los gráficos se presenten donde deben de estar es necesario ejecutar las siguientes instrucciones:"
   ]
  },
  {
   "cell_type": "code",
   "execution_count": 1,
   "metadata": {
    "collapsed": true
   },
   "outputs": [],
   "source": [
    "%matplotlib inline\n",
    "import numpy as np\n",
    "import matplotlib.pyplot as plt"
   ]
  },
  {
   "cell_type": "markdown",
   "metadata": {},
   "source": [
    "Recuerda que hay que ejecutar cada celda (cell) con *ctrl-enter* o con el simbolo de la flechita arriba de la libreta.\n",
    "\n",
    "La primer linea es un comando específico de `Jupyter` conocidos como *comandos mágicos*. En este comando le especificamos a la libreta que vamos a utilizar matplotlib para hacer gráficas y que queremos que las anexe dentro del documento. Existen muchos comandos mágicos, algunos muy útiles que vamos a ir viendo sobre la marcha. Para una explicacion completa está la libreta http://nbviewer.ipython.org/github/ipython/ipython/blob/1.x/examples/notebooks/Cell%20Magics.ipynb. \n"
   ]
  },
  {
   "cell_type": "markdown",
   "metadata": {},
   "source": [
    "## Inicializando variables en Numpy"
   ]
  },
  {
   "cell_type": "markdown",
   "metadata": {},
   "source": [
    "Numpy agrega a python básicamente dos nuevos tipos o clases, de los cuales solo nos vamos a interesar por los arreglos multidimensionales o `ndarray`. La manera más sencilla de crear un array (vector o matriz) es utilizando `array` como:"
   ]
  },
  {
   "cell_type": "code",
   "execution_count": 2,
   "metadata": {},
   "outputs": [
    {
     "name": "stdout",
     "output_type": "stream",
     "text": [
      "vector a = \n",
      "[  1.       3.1416  40.       0.       2.       5.    ]\n",
      "matriz A = \n",
      "[[1 2]\n",
      " [3 4]\n",
      " [5 6]]\n"
     ]
    }
   ],
   "source": [
    "# Crea un objeto vector\n",
    "vector_a = np.array([1, 3.1416, 40, 0, 2, 5])\n",
    "print(\"vector a = \\n{}\".format(vector_a)) \n",
    "\n",
    "      # Crea una matriz\n",
    "matriz_A = np.array([[1, 2], [3, 4], [5, 6]])\n",
    "print(\"matriz A = \\n{}\".format(matriz_A)) \n"
   ]
  },
  {
   "cell_type": "markdown",
   "metadata": {},
   "source": [
    "El autocompletado funciona muy bien en las libretas de `Jupyter` usando `TAB`. Si quieres conocer la documentación de una función, solo tienes que colocar el cursos al final de ella y utilizar `Shift-TAB` (hacerlo repetidas veces cambia el detalle de la documentación)."
   ]
  },
  {
   "cell_type": "code",
   "execution_count": 3,
   "metadata": {
    "collapsed": true
   },
   "outputs": [],
   "source": [
    "vr = np.array"
   ]
  },
  {
   "cell_type": "markdown",
   "metadata": {},
   "source": [
    "Esta es la manera más directa pero no la única (y en muchos casos la mas usada) para crear nuevos vectores multidimensionales. Existen otras maneras de generar arreglos como son las funciones:\n",
    "\n",
    "* `arange(ini=0, fin, inc=1)`: Devuelve un ndarray iniciando en ini y terminando en fin, con incrementos de inc\n",
    "\n",
    "* `zeros(dim)`: Devuelve un ndarray de dimensión dim (si es un escalar se considera un vector, si es una tupla de números entonces\n",
    "son las dimensiones del ndarray), con todas sus entradas en cero. \n",
    "      \n",
    "* `ones(dim)`: Similar a zeros() pero con unos.\n",
    "    \n",
    "* `eye(x, y=none)`: si solo se tiene el argumento x devuelve una matriz identidad de $x \\times x$. Si se encuentra y,\n",
    "entonces una matriz diagonal rectangular de dimensión x por y.\n",
    "      \n",
    "* `zeros_like( x )`: Un ndarray de ceros de la misma dimensión que x (igual existe ones_like).\n",
    "    \n",
    "* `linspace(inicial, final, elementos)`: Devuelve un ndarray de una dimensión iniciando en inicial, hasta final de \n",
    "manera que existan elementos numeros igualmente espaciados. Muy útil para graficación principalmente.\n",
    "      \n",
    "* `random.rand(dim1, dim2, ...)`: Devuelve un ndarray de dimensiones dim1 por dim2 por ... con números aleatorios\n",
    "generados por una distribución uniforme entre 0 y 1. \n",
    "      \n",
    "Veamos unos cuantos ejemplos:"
   ]
  },
  {
   "cell_type": "code",
   "execution_count": 4,
   "metadata": {},
   "outputs": [
    {
     "name": "stdout",
     "output_type": "stream",
     "text": [
      "Un vector de ceros con 5 valores\n",
      "[ 0.  0.  0.  0.  0.]\n"
     ]
    }
   ],
   "source": [
    "vZ = np.zeros(5)\n",
    "print(\"Un vector de ceros con 5 valores\")\n",
    "print(vZ)"
   ]
  },
  {
   "cell_type": "code",
   "execution_count": 5,
   "metadata": {},
   "outputs": [
    {
     "name": "stdout",
     "output_type": "stream",
     "text": [
      "Una matriz de 3 x 10 de puros unos\n",
      "[[ 1.  1.  1.  1.  1.  1.  1.  1.  1.  1.]\n",
      " [ 1.  1.  1.  1.  1.  1.  1.  1.  1.  1.]\n",
      " [ 1.  1.  1.  1.  1.  1.  1.  1.  1.  1.]]\n"
     ]
    }
   ],
   "source": [
    "mO = np.ones((3, 10))\n",
    "print(\"Una matriz de 3 x 10 de puros unos\")\n",
    "print(mO)"
   ]
  },
  {
   "cell_type": "code",
   "execution_count": 6,
   "metadata": {},
   "outputs": [
    {
     "name": "stdout",
     "output_type": "stream",
     "text": [
      "va = \n",
      "[0 1 2 3 4 5 6 7 8 9]\n"
     ]
    }
   ],
   "source": [
    "va = np.arange(10)\n",
    "print(\"va = \")\n",
    "print(va)"
   ]
  },
  {
   "cell_type": "code",
   "execution_count": 7,
   "metadata": {},
   "outputs": [
    {
     "name": "stdout",
     "output_type": "stream",
     "text": [
      "vb = \n",
      "[20 15 10  5  0 -5]\n"
     ]
    }
   ],
   "source": [
    "vb = np.arange(20,-10,-5)\n",
    "print(\"vb = \")\n",
    "print(vb)"
   ]
  },
  {
   "cell_type": "code",
   "execution_count": 8,
   "metadata": {},
   "outputs": [
    {
     "name": "stdout",
     "output_type": "stream",
     "text": [
      "Una matriz de ceros de las dimensiones de mO:\n",
      "[[ 0.  0.  0.  0.  0.  0.  0.  0.  0.  0.]\n",
      " [ 0.  0.  0.  0.  0.  0.  0.  0.  0.  0.]\n",
      " [ 0.  0.  0.  0.  0.  0.  0.  0.  0.  0.]]\n"
     ]
    }
   ],
   "source": [
    "print(\"Una matriz de ceros de las dimensiones de mO:\")\n",
    "print(np.zeros_like(mO))"
   ]
  },
  {
   "cell_type": "code",
   "execution_count": 9,
   "metadata": {},
   "outputs": [
    {
     "name": "stdout",
     "output_type": "stream",
     "text": [
      "Y una matriz con números aleatorios bajo una distribución uniforme entre 0 y 1\n",
      "[[ 0.54766478  0.59788095  0.66331026  0.55829477  0.1967111   0.54979437\n",
      "   0.67351811  0.38376541  0.98973658  0.03336959  0.0908654   0.05314813]\n",
      " [ 0.71113     0.82049712  0.75387947  0.87199469  0.78487201  0.76816155\n",
      "   0.33641073  0.78934424  0.0562927   0.02613598  0.62495696  0.79836836]\n",
      " [ 0.25805689  0.33901751  0.19493585  0.42288527  0.65388525  0.69525123\n",
      "   0.85738587  0.70368442  0.67051569  0.58337486  0.95277132  0.74685197]\n",
      " [ 0.16786779  0.72829236  0.77914081  0.05327231  0.60186926  0.75998465\n",
      "   0.98658208  0.07016912  0.73378139  0.55095411  0.64832218  0.22144978]\n",
      " [ 0.43519895  0.30785437  0.76993944  0.7526204   0.03151399  0.30343296\n",
      "   0.04992953  0.54636572  0.53825316  0.36240258  0.37158746  0.93155274]]\n"
     ]
    }
   ],
   "source": [
    "mA = np.random.rand(5, 12)\n",
    "print(\"Y una matriz con números aleatorios bajo una distribución uniforme entre 0 y 1\")\n",
    "print(mA)"
   ]
  },
  {
   "cell_type": "markdown",
   "metadata": {},
   "source": [
    "### Ejercicio: "
   ]
  },
  {
   "cell_type": "markdown",
   "metadata": {},
   "source": [
    "En la siguiente celda (o puedes crear las que consideres convenientes) crea las siguientes matrices:\n",
    "\n",
    "* Una matriz de 4 por 6 con valores aleatorios de acuerdo a una distribución normal con media cero y varianza unitaria.\n",
    "    \n",
    "* Un vector de 10 elementos con valores aleatorios de números enteros entre 4 y 100\n",
    "    \n",
    "* Una matriz diagonal de 5 por 5 cuyos elementos de la diagonal sean (1, 2, 3, 4, 5)"
   ]
  },
  {
   "cell_type": "code",
   "execution_count": 10,
   "metadata": {
    "scrolled": true
   },
   "outputs": [
    {
     "name": "stdout",
     "output_type": "stream",
     "text": [
      "Una matriz con números aleatorios de acuerdo a una distribución normal con media cero y varianza unitaria\n",
      "[[-0.57919285 -0.74987803  0.15405211  0.22651765 -1.78323953  1.00465048]\n",
      " [ 0.07655402 -1.5609701   0.02184541 -0.25913524 -0.64350403  0.73639957]\n",
      " [-0.25556848 -0.06938845  1.22015615 -1.07854417  1.42141187 -1.23415367]\n",
      " [ 0.12675676  0.91669394 -1.64236323 -0.35692525 -0.63862144  0.0584492 ]] \n",
      "\n",
      "\n",
      "Un vector de 10 elementos con valores aleatorios de números enteros entre 4 y 100\n",
      "[85 39 59 93 63 26 75 66 15 74] \n",
      "\n",
      "\n",
      "Una matriz diagonal de 5 por 5 cuyos elementos de la diagonal sean (1, 2, 3, 4, 5)\n",
      "[[ 1.  0.  0.  0.  0.]\n",
      " [ 0.  2.  0.  0.  0.]\n",
      " [ 0.  0.  3.  0.  0.]\n",
      " [ 0.  0.  0.  4.  0.]\n",
      " [ 0.  0.  0.  0.  5.]]\n"
     ]
    }
   ],
   "source": [
    "# Introduce aqui tus respuestas\n",
    "#Distribución normal\n",
    "mu, sigma = 0, 1 # media y desvio estandar\n",
    "mN = np.random.normal(mu, sigma, (4,6)) #creando muestra de datos\n",
    "print(\"Una matriz con números aleatorios de acuerdo a una distribución normal con media cero y varianza unitaria\")\n",
    "print(mN,\"\\n\\n\")\n",
    "#nuúeros aleatorios entre 4 y 100\n",
    "numeros = np.random.randint(4, 100, 10) #creando muestra de datos\n",
    "print(\"Un vector de 10 elementos con valores aleatorios de números enteros entre 4 y 100\")\n",
    "print(numeros,\"\\n\\n\")\n",
    "#matriz diagonal\n",
    "aD=np.zeros((5,5))\n",
    "np.fill_diagonal(aD,[i for i in range(1,6)]) #creando muestra de datos\n",
    "print(\"Una matriz diagonal de 5 por 5 cuyos elementos de la diagonal sean (1, 2, 3, 4, 5)\")\n",
    "print(aD)"
   ]
  },
  {
   "cell_type": "markdown",
   "metadata": {},
   "source": [
    "## Operaciones básicas de los ndarray"
   ]
  },
  {
   "cell_type": "markdown",
   "metadata": {},
   "source": [
    "La mayoría de las operaciones que se pueden aplicar e los ndarray se encuenran en el espacio de nombres de np, y las cuales son bastante directas tal como:\n",
    "\n",
    "    b = np.sin(a)\n",
    "\n",
    "la cual devuelve en b un ndarray de las mismas dimensiones que a, cuyas entradas son el seno de las entradas de a (en radianes).\n",
    "Así, parece inecesario explicar las funciones cos, tan, tanh, acos, asin, etc..\n",
    "\n",
    "Otras funciones muy útiles no son tan directas. Veamos algunas:\n",
    "\n",
    "    c = a + b\n",
    "\n",
    "es la suma de dos ndarray, bastante obvio, lo que no lo es tanto es:\n",
    "\n",
    "    c = a * b\n",
    "\n",
    "la cual es un ndarray resultante de la *multiplicación punto a punto* de los elementos de a y b, asumiendo que ambos tienen\n",
    "las mismas diensiones. ¿Y para aplicar un producto matricial? Pues se utiliza el comando dot (o producto punto) el cual puede ser\n",
    "expresado de dos formas:\n",
    "\n",
    "    c = np.dot(a, b)\n",
    "    c = a.dot(b)\n",
    "\n",
    "La suma de los elementos de un ndarray tambien es un método del objeto (como min, max, argmin, argmax, etc...)\n",
    "\n",
    "    b = a.sum()\n",
    "\n",
    "es la suma de *todos los elementos del array* mientras que\n",
    "\n",
    "    b = a.sum(axis=0) \n",
    "\n",
    "es un ndarray con una dimensión menos que a, con la suma de las columnas. Veamos unos ejemplos:"
   ]
  },
  {
   "cell_type": "code",
   "execution_count": 11,
   "metadata": {},
   "outputs": [
    {
     "name": "stdout",
     "output_type": "stream",
     "text": [
      "a = \n",
      "[[1 2 3]\n",
      " [4 5 6]]\n",
      "b = \n",
      "[[ 0.62745462  0.08218137  0.82992956]\n",
      " [ 0.11952351  0.00825812  0.54274595]]\n",
      "Suma de todos los números de b\n",
      "2.21009311716\n",
      "Media de cada columna de a\n",
      "[ 2.5  3.5  4.5]\n",
      "Transpuesta de a, forma larga\n",
      "[[1 4]\n",
      " [2 5]\n",
      " [3 6]]\n",
      "Transpuesta de a, forma preferida\n",
      "[[1 4]\n",
      " [2 5]\n",
      " [3 6]]\n",
      "10 * b = \n",
      "[[ 6.27454616  0.8218137   8.29929556]\n",
      " [ 1.19523508  0.0825812   5.42745947]]\n",
      "a * b =\n",
      "[[ 0.62745462  0.16436274  2.48978867]\n",
      " [ 0.47809403  0.0412906   3.25647568]]\n",
      "2 elevado a la matriz a\n",
      "[[ 2  4  8]\n",
      " [16 32 64]]\n",
      "a elevada al cuadrado (elemento a elemento)\n",
      "[[ 1  4  9]\n",
      " [16 25 36]]\n",
      "a.dot(b.T) = \n",
      "[[ 3.28160603  1.76427759]\n",
      " [ 7.90030265  3.77586031]]\n",
      "a.dot(b) debería dar error\n"
     ]
    },
    {
     "ename": "ValueError",
     "evalue": "shapes (2,3) and (2,3) not aligned: 3 (dim 1) != 2 (dim 0)",
     "output_type": "error",
     "traceback": [
      "\u001b[0;31m---------------------------------------------------------------------------\u001b[0m",
      "\u001b[0;31mValueError\u001b[0m                                Traceback (most recent call last)",
      "\u001b[0;32m<ipython-input-11-e32160551db0>\u001b[0m in \u001b[0;36m<module>\u001b[0;34m()\u001b[0m\n\u001b[1;32m     34\u001b[0m \u001b[0;34m\u001b[0m\u001b[0m\n\u001b[1;32m     35\u001b[0m \u001b[0mprint\u001b[0m\u001b[0;34m(\u001b[0m\u001b[0;34m\"a.dot(b) debería dar error\"\u001b[0m\u001b[0;34m)\u001b[0m\u001b[0;34m\u001b[0m\u001b[0m\n\u001b[0;32m---> 36\u001b[0;31m \u001b[0mprint\u001b[0m\u001b[0;34m(\u001b[0m\u001b[0ma\u001b[0m\u001b[0;34m.\u001b[0m\u001b[0mdot\u001b[0m\u001b[0;34m(\u001b[0m\u001b[0mb\u001b[0m\u001b[0;34m)\u001b[0m\u001b[0;34m)\u001b[0m\u001b[0;34m\u001b[0m\u001b[0m\n\u001b[0m",
      "\u001b[0;31mValueError\u001b[0m: shapes (2,3) and (2,3) not aligned: 3 (dim 1) != 2 (dim 0)"
     ]
    }
   ],
   "source": [
    "# Vamos a generar varios ndarrays\n",
    "a = np.array([[1, 2, 3], [4, 5, 6]])\n",
    "b = np.random.rand(2, 3)\n",
    "\n",
    "print(\"a = \\n{}\".format(a))\n",
    "print(\"b = \\n{}\".format(b))\n",
    "\n",
    "print(\"Suma de todos los números de b\")\n",
    "print(b.sum())\n",
    "\n",
    "print(\"Media de cada columna de a\")\n",
    "print(a.mean(axis=0))\n",
    "\n",
    "print(\"Transpuesta de a, forma larga\")\n",
    "print(a.transpose())\n",
    "\n",
    "print(\"Transpuesta de a, forma preferida\")\n",
    "print(a.T)\n",
    "\n",
    "print(\"10 * b = \")\n",
    "print(10 * b)\n",
    "\n",
    "print(\"a * b =\")\n",
    "print(a * b)\n",
    "\n",
    "print(\"2 elevado a la matriz a\")\n",
    "print(np.power(2, a))\n",
    "\n",
    "print(\"a elevada al cuadrado (elemento a elemento)\")\n",
    "print(np.power(a, 2))\n",
    "\n",
    "print(\"a.dot(b.T) = \")\n",
    "print(a.dot(b.T))\n",
    "\n",
    "print(\"a.dot(b) debería dar error\")\n",
    "print(a.dot(b))"
   ]
  },
  {
   "cell_type": "markdown",
   "metadata": {},
   "source": [
    "Como vemos tenemos aqui una bateria completa de funciones, las cuales se aplican en un ndarray. ¿Pero que información tengo de un ndarray? ¿Como puedo componer un ndarray a partir de otros? \n",
    "\n",
    "La mejor manera de aprenderlo es experimentando, así que complet el siguiente **Eejercicio**.\n",
    "\n",
    "### Ejercicio: tTrata de inferir que es lo que debe contener cada array b, c, d, e, f, g, h sin hacer ninguna prueba y escribelos como comentario. Posteriormente, agrega los `print` que consideres necesarios para verificar que valores tiene b, c, d, e, f, g, h ."
   ]
  },
  {
   "cell_type": "code",
   "execution_count": 12,
   "metadata": {},
   "outputs": [
    {
     "name": "stdout",
     "output_type": "stream",
     "text": [
      "El número de dimensiones de a es: 1\n",
      "Y su forma es (100,)\n",
      "Y tiene 100 elementos\n",
      "\n",
      "Arreglo b\n",
      "\n",
      "[ 0  1  2  3  4  5  6  7  8  9 10 11 12 13 14 15 16 17 18 19] \n",
      "\n",
      "\n",
      "Arreglo c\n",
      "\n",
      "[20 21 22 23 24 25 26 27 28 29 30 31 32 33 34 35 36 37 38 39 40 41 42 43 44\n",
      " 45 46 47 48 49 50 51 52 53 54 55 56 57 58 59 60 61 62 63 64 65 66 67 68 69\n",
      " 70 71 72 73 74 75 76 77 78 79 80 81 82 83 84 85 86 87 88 89 90 91 92 93 94\n",
      " 95 96 97 98 99] \n",
      "\n",
      "\n",
      "Arreglo d\n",
      "\n",
      "[99 98 97 96 95 94 93 92 91] \n",
      "\n",
      "\n",
      "Arreglo e\n",
      "\n",
      "[10] \n",
      "\n",
      "\n",
      "Arreglo f\n",
      "\n",
      "[99 98 97 96 95 94 93 92 91 90 89 88 87 86 85 84 83 82 81 80 79 78 77 76 75\n",
      " 74 73 72 71 70 69 68 67 66 65 64 63 62 61 60 59 58 57 56 55 54 53 52 51 50\n",
      " 49 48 47 46 45 44 43 42 41 40 39 38 37 36 35 34 33 32 31 30 29 28 27 26 25\n",
      " 24 23 22 21 20 19 18 17 16 15 14 13 12 11 10  9  8  7  6  5  4  3  2  1  0] \n",
      "\n",
      "\n",
      "Arreglo g\n",
      "\n",
      "[ 0  5 10 15 20 25 30 35 40 45 50 55 60 65 70 75 80 85 90 95] \n",
      "\n",
      "\n",
      "Arreglo h\n",
      "\n",
      "[98 84 39] \n",
      "\n",
      "\n"
     ]
    }
   ],
   "source": [
    "#Generamos el ndarray\n",
    "a = np.arange(100)\n",
    "\n",
    "# Chacamos algunas propiedades\n",
    "print(\"El número de dimensiones de a es: {}\".format(a.ndim))\n",
    "print(\"Y su forma es {}\".format(a.shape))\n",
    "print(\"Y tiene {} elementos\".format(a.size))\n",
    "\n",
    "#Generamos algunos ndarrays a partir de a\n",
    "b, c = a[:20], a[20:]\n",
    "d, e = a[-1:-10:-1], a[10:11]\n",
    "f = a[::-1]\n",
    "g = a[a % 5 == 0]\n",
    "h = f[[1, 15, 60]]\n",
    "\n",
    "# Ahora trata de inferir que es lo que debe contener cada array b, c, d, e, f, g, h sin hacer ninguna prueba.\n",
    "#\n",
    "#   b tendria los primeros 20 del arreglo a\n",
    "#\n",
    "#   c tendria del elemento 20 en adelante del arreglo a\n",
    "#\n",
    "#   d tendria desde el ultimo elemento, luego restandole 1 al indice hasta llegar a 9 elementos\n",
    "#\n",
    "#   e tendria desde el elemento 10 hasta antes del 11, osea 1 elemento\n",
    "#\n",
    "#   f como en los primeros dos espacios no tiene nada deben de ser todos los elementos del arreglo a, pero \n",
    "#   en reversa, por el -1\n",
    "#\n",
    "#   g contiene los elementos del arreglo cuya división entre 5 da 0\n",
    "#\n",
    "#   h tiene los elementos 1, 15 y 60, del arreglo f donde estan en forma inversa\n",
    "#\n",
    "# Agrega ahora los print que consideres necesarios para verificar que valores tiene b, c, d, e, f, g, h \n",
    "print(\"\\nArreglo b\\n\")\n",
    "print(b,\"\\n\\n\")\n",
    "print(\"Arreglo c\\n\")\n",
    "print(c,\"\\n\\n\")\n",
    "print(\"Arreglo d\\n\")\n",
    "print(d,\"\\n\\n\")\n",
    "print(\"Arreglo e\\n\")\n",
    "print(e,\"\\n\\n\")\n",
    "print(\"Arreglo f\\n\")\n",
    "print(f,\"\\n\\n\")\n",
    "print(\"Arreglo g\\n\")\n",
    "print(g,\"\\n\\n\")\n",
    "print(\"Arreglo h\\n\")\n",
    "print(h,\"\\n\\n\")"
   ]
  },
  {
   "cell_type": "markdown",
   "metadata": {},
   "source": [
    "A partir de una matriz (un ndarray de dos dimensiones) se pueden ejemplificar otras cosas, por ejemplo:"
   ]
  },
  {
   "cell_type": "code",
   "execution_count": null,
   "metadata": {},
   "outputs": [],
   "source": [
    "#Generamos un arreglo con 100 valores equiespaciados del seno desde 0 a 2$\\pi$\n",
    "a = np.sin(np.linspace(0, 2 * np.pi, 100))\n",
    "\n",
    "#Lo convertimos en una matriz de 10 por (lo que sea), que lo que sea es 10 en este caso, seguro\n",
    "b = a.reshape((10, -1))\n",
    "print(\"b queda como: \\n{}\".format(b))\n",
    "print(\"donde b tiene {} dimensiones, con una forma {} y con {} elementos.\".format(b.ndim, b.shape, b.size))"
   ]
  },
  {
   "cell_type": "code",
   "execution_count": null,
   "metadata": {},
   "outputs": [],
   "source": [
    "#Si queremos convertir un ndarray a un array de una sola dimension (desenrrollar la matriz sería el término ingenieril)\n",
    "c = b.ravel()\n",
    "\n",
    "print(\"La diferencia de a y c sería\")\n",
    "print((a - c).sum())"
   ]
  },
  {
   "cell_type": "code",
   "execution_count": null,
   "metadata": {},
   "outputs": [],
   "source": [
    "# Si queremos hacer que un vector se comporte como un vector renglon\n",
    "a = np.arange(30).reshape(1,-1)\n",
    "print(\"a es de forma {}\".format(a.shape))\n",
    "\n",
    "# Y si queremos que sea un vector columna hacemos esto\n",
    "b = np.linspace(30, 35, 30).reshape(-1,1)\n",
    "print(\"b es de forma {}\".format(b.shape))\n",
    "\n",
    "# Y para hacer una concatenacion de columnas entonces utilizamps la forma especial np.c[]\n",
    "c = np.c_[a.T, b]\n",
    "print(\"c es de forma {}\".format(c.shape))\n",
    "\n",
    "#Y una concatenación de renglones es por lo tanto\n",
    "d = np.r_[a, b.T]\n",
    "print(\"d es de forma {}\".format(d.shape))"
   ]
  },
  {
   "cell_type": "markdown",
   "metadata": {},
   "source": [
    "Las funciones en `numpy` aplican para todos los elementos de un vector. Por ejemplo `np.sin(A)`, `np.log(A)` calculan el seno y el logritmo natural de cad uno de los elementos de `A`. La multiplicación *, suma +, division / y resta - (entre otras operaciones bnarias) se aplican tambien elemento a elemento, y se hacerlo con una constante, esta se generaliza a la dimensión de la matriz. Si bien la función $1/A$ donde $A$ es un vector o una matriz no tiene sentido en matemáticas, en numpy significa dividir 1 entre cada uno de los elementos de $A$ y devolver una matriz de mismas dimensiones que $A$\n",
    "\n",
    "### Ejercicio"
   ]
  },
  {
   "cell_type": "markdown",
   "metadata": {},
   "source": [
    "Realiza lo siguiente:\n",
    "\n",
    "* Genera una matriz de 100 por 5 de forma que en cada columna tengamos lo siguiente:\n",
    "    \n",
    "    - En la primer columna los valores entre -1 y 1, equiespaciados\n",
    "    - En la segunda columna el valor de seno para los valores de la primer columna\n",
    "    - En la tercer columna el valor de la función logística de los valores de la primer columna, la cual es $g(x) = \\frac{1}{1 + \\exp(-x)}$\n",
    "    - En la cuarta columna 1 si el valor de $\\sin(x) > 0$ y -1 en otro caso, donde $x$ son los valores de la primer columna (revisa la función np.where)\n",
    "    - En la quinta columna valores aleatorios de acuerdo a una distribución gaussiana con media 1 y varianza 0.5\n",
    "        \n",
    "* Encuentra un arreglo con todos los valores de la función logística, cuando el valor absoluto del seno de x es menor a 0.5\n",
    "    \n",
    "* Convierte este arraglo en una matriz con 5 columnas y los renglones que sean necesarios.\n",
    "        "
   ]
  },
  {
   "cell_type": "code",
   "execution_count": null,
   "metadata": {},
   "outputs": [],
   "source": [
    "#  Escribe aqui tu código\n",
    "#funcion g\n",
    "def g(x):\n",
    "    a=np.copy(x)\n",
    "    for i in range(len(a)):\n",
    "        #i=1/(1+np.exp(-i))\n",
    "        a[i]=1/(1+np.exp(-a[i]))\n",
    "    return a\n",
    "#creo el arreglo con ceros al inicio\n",
    "matriz=np.zeros((100,5))\n",
    "#obtener las longitudes\n",
    "alto,largo=matriz.shape\n",
    "#la primer colunma con valores equidistantes entre -1 y 1\n",
    "matrizColumna1=np.linspace(-1, 1, alto)\n",
    "#segunda columna cone l seno de los valores de la columna 1\n",
    "matrizColumna2=np.sin(matrizColumna1)\n",
    "#la tercer columna con los valores de la funcion g aplicada a la columna 1\n",
    "matrizColumna3=np.apply_along_axis(g,0,matrizColumna1)\n",
    "#columna 4\n",
    "#los indices donde se cumple la condicion\n",
    "indices=np.where(np.sin(matrizColumna1)>0)[0]\n",
    "matrizColumna4=[1 if i in indices else -1 for i in range(alto)]\n",
    "#columna 5\n",
    "mu, sigma = 1, np.sqrt(.5) # media y desvio estandar\n",
    "matrizColumna5 = np.random.normal(mu, sigma, alto) #creando muestra de datos\n",
    "#concatenar \n",
    "matriz=np.c_[matrizColumna1,matrizColumna2,matrizColumna3,matrizColumna4,matrizColumna5]\n",
    "print(\"Matriz de 100x5\\n\")\n",
    "print(matriz,\"\\n\\n\")\n",
    "\n",
    "\n",
    "indices = np.where(np.abs(matrizColumna2) < 0.5)[0]\n",
    "print(\"Indices de todos los valores de la función logística, cuando el valor absoluto del seno de x es menor a 0.5\\n\")\n",
    "print(indices,\"\\n\\n\")\n",
    "matriz2=[matrizColumna3[i] if i in indices else 0 for i in range(alto)]\n",
    "matriz2 = np.array(matriz2).reshape((-1, 5))\n",
    "print(\"Valores con valor absoluto del seno de x es menor a 0.5 en matriz de 5 columnas\\n\")\n",
    "print(matriz2)\n"
   ]
  },
  {
   "cell_type": "markdown",
   "metadata": {},
   "source": [
    "Además de estas funciones, numpy cuenta con funciones del algebra lineal altamente optimizadas (aunque no paralelizadas), las cuales son (entre otras):\n",
    "\n",
    "* `np.linalg.inv(a)`: Inversa de a\n",
    "* `np.linalg.pinv(a)`: Pseudoinversa de Ross-Penrose de a (muy útil para nosotros)\n",
    "* `np.linalg.det(a)`: determinante de a\n",
    "* `np.linalg.eig(a)`: eigenvalores y eigenvectores de a\n",
    "* `np.linalg.svd(a)`: Valores singulares de a"
   ]
  },
  {
   "cell_type": "markdown",
   "metadata": {},
   "source": [
    "## Haciendo gráficas sencillas con Matplotlib"
   ]
  },
  {
   "cell_type": "markdown",
   "metadata": {},
   "source": [
    "La mejor manera de mostrar como funcionan las facilidades que ofrece matplotlib, es mostrando directamente su uso más sencillo,\n",
    "así que veamos un ejemplo muy simple. Es importante recordar que en la primer celda de esta libreta se definió la manera de realizar las gráficas (dentro del documento y no como figuras aparte), así como se cargo matplotlib en el espacio de nombres plt."
   ]
  },
  {
   "cell_type": "code",
   "execution_count": null,
   "metadata": {},
   "outputs": [],
   "source": [
    "# Vamos a hacerlo pasito a pasito\n",
    "\n",
    "# Primero obtenemos un vector x\n",
    "x = np.linspace(-np.pi, np.pi, 1000)\n",
    "\n",
    "# Luego obtenemos un vector y bastante trivial\n",
    "y = np.sin(x)\n",
    "\n",
    "# Y ahora hacemos una gráfica bastante básica de x y y\n",
    "plt.plot(x, y)\n",
    "plt.xlabel(\"el eje de las x's\")\n",
    "plt.ylabel(\"el eje de las y's\")\n",
    "plt.title(\"Este es un plot bastante trivial y sin mucho chiste\")\n",
    "\n",
    "# Bueno como la gráfica no esta muy bien a lo mejor se ve mejor si modificamos los limites de los ejes\n",
    "plt.axis([-3.1416, 3.1416, -1.1, 1.1])"
   ]
  },
  {
   "cell_type": "markdown",
   "metadata": {},
   "source": [
    "Aunque a veces queremos hacer unas gráficas más bien indicativas por lo que un estilo más informal podría ser útil:\n"
   ]
  },
  {
   "cell_type": "code",
   "execution_count": null,
   "metadata": {},
   "outputs": [],
   "source": [
    "with plt.xkcd():\n",
    "    plt.plot(x, y)\n",
    "    plt.xlabel(\"el eje de las x's\")\n",
    "    plt.ylabel(\"el eje de las y's\")\n",
    "    plt.title(\"Este es un plot bastante trivial y sin mucho chiste\")\n",
    "    plt.axis([-3.1416, 3.1416, -1.1, 1.1])"
   ]
  },
  {
   "cell_type": "markdown",
   "metadata": {},
   "source": [
    "Hay que tener mucho cuidado, ya que si no se utiliza plt.xkcd() dentro de un with, entonces va a modificar todas las graficas que se realicen en la libreta (a veces es deseable, pero es una mejor práctica de programación hacerlo así).\n",
    "\n",
    "Ahora hagamos una gráfica con varios valores diferentes"
   ]
  },
  {
   "cell_type": "code",
   "execution_count": null,
   "metadata": {},
   "outputs": [],
   "source": [
    "plt.plot(x, np.sin(x), label='seno')\n",
    "\n",
    "plt.plot(x, 1/(1 + np.exp(-x)), label=u\"logística\")\n",
    "\n",
    "plt.plot(x, (0.2 * x * x) - 0.5, label=r'$0.2 x^2 - 0.5$')\n",
    "\n",
    "plt.axis([-3.1416, 3.1416, -1.1, 1.4])\n",
    "\n",
    "plt.title(\"Tres funciones piteras juntas\")\n",
    "plt.xlabel(r\"$\\theta$ (rad)\")\n",
    "plt.ylabel(\"magnitud\")\n",
    "\n",
    "plt.legend(loc=0)"
   ]
  },
  {
   "cell_type": "markdown",
   "metadata": {},
   "source": [
    "Hay muchos tipos de funciones, lo mejor para saber como ustilizar matplotlib es ver la galeria de ejemplo que se encuentran en la ayuda,\n",
    "y pueden consultarse en http://matplotlib.org/gallery.html (al darle click a una imagen se puede ver el código que la genera).\n",
    "\n",
    "Por ejemplo si queremos una gráfica tipo pay con estlos diferentes:"
   ]
  },
  {
   "cell_type": "code",
   "execution_count": null,
   "metadata": {},
   "outputs": [],
   "source": [
    "labels = 'Tortas', 'Taquitos', 'Burros', 'Ensaladas'\n",
    "porcentajes = [15, 30, 45, 10]\n",
    "colores = ['yellowgreen', 'gold', 'lightskyblue', 'lightcoral']\n",
    "separa = (0, 0.1, 0, 0) # solo separa la segunda rebanada (i.e. 'Taquitos')\n",
    "\n",
    "with plt.xkcd():\n",
    "    plt.pie(porcentajes, explode=separa, labels=labels, colors=colores, autopct='%1.1f%%', shadow=True, startangle=90)\n",
    "    plt.axis('equal') #Para que el pay se vea como un círculo\n",
    "    plt.xlabel(u'Lo que como cuando me quedo en la UNISON a mediodía')\n",
    "    plt.show()\n",
    "\n",
    "\n",
    "\n",
    "    "
   ]
  },
  {
   "cell_type": "markdown",
   "metadata": {},
   "source": [
    "O si queremos una gráfica tipo contorno con todo y datos"
   ]
  },
  {
   "cell_type": "code",
   "execution_count": null,
   "metadata": {},
   "outputs": [],
   "source": [
    "# Genera datos en los ejes x y y de forma uniforme entre -2 y 2\n",
    "# prueba generando 2000 puntos (con y sin colores) pero para \n",
    "# 2000 puntos no vayas a dibujar los valores parque no se va a ver nada.\n",
    "x = np.random.uniform(-2, 2, 200)\n",
    "y = np.random.uniform(-2, 2, 200)\n",
    "\n",
    "# Genera los valores en z en cada punto generado, con la función siguiente\n",
    "z = x * np.exp(-x ** 2 - y ** 2)\n",
    "\n",
    "# define el grid donde se muestran los datos\n",
    "xi = np.linspace(-2.1, 2.1, 100)\n",
    "yi = np.linspace(-2.1, 2.1, 200)\n",
    "\n",
    "# Genera datos de z interpolados para tener mejor presición en el contorno\n",
    "from matplotlib.mlab import griddata\n",
    "zi = griddata(x, y, z, xi, yi, interp='linear')\n",
    "\n",
    "# Hace una gráfica de contorno con únicamente lineas de nivel.\n",
    "plt.contour(xi, yi, zi, 15, linewidths=0.5, colors='k')\n",
    "\n",
    "# Para hacerlo mas acá pues se puede agregar color a cada nivel y agregarle una barra de nivel de color\n",
    "plt.contourf(xi, yi, zi, 15, cmap=plt.cm.rainbow, vmax=abs(zi).max(), vmin=-abs(zi).max())\n",
    "plt.colorbar() # draw colorbar\n",
    "\n",
    "# Grafica los puntos generados sobre el contorno.\n",
    "plt.scatter(x, y, marker='o', c='b', s=5, zorder=10)\n",
    "\n",
    "# Hace los límites de la gráfica exactos\n",
    "plt.axis([-2, 2, -2, 2])\n",
    "\n",
    "plt.title('Prueba para un contorno con datos generados')"
   ]
  },
  {
   "cell_type": "markdown",
   "metadata": {},
   "source": [
    "Por último, un detalle muy importante y que puede ser de mucha utilidad: La generación de subplots. Una figura puede contener varias subgraficas, para esto hay que especificar en cuantas gráficas vamos a dividir la figura en forma de renglones y columnas, y luego seleccionar la subgráfica en la que vamos a graficar. Por ejemplo\n",
    "\n",
    "    plt.subplot(2,2,1)\n",
    "    \n",
    "significa que la figura la vamos a dividir en 2 renglones y dos columnas (cuatro subgráficas) y vamos a escribir sobre la subgráfica 1. Lo mejor es ilustrarlo con un ejemplo muy simple."
   ]
  },
  {
   "cell_type": "code",
   "execution_count": null,
   "metadata": {},
   "outputs": [],
   "source": [
    "x = np.linspace(0, 5, 1000)\n",
    "y1 = np.exp(-0.2 * x) * np.cos(2 * np.pi * x)\n",
    "y2 = np.cos(2 * np.pi * x)\n",
    "y3 = np.exp(0.2 * x) * np.cos(2 * np.pi * x)\n",
    "y4 = np.exp(-0.1 * x)\n",
    "\n",
    "plt.subplot(2, 2, 1)\n",
    "plt.plot(x, y1)\n",
    "plt.title('Estable subamortiguado')\n",
    "\n",
    "plt.subplot(2, 2, 2)\n",
    "plt.plot(x, y2)\n",
    "plt.title('Criticamente estable')\n",
    "\n",
    "plt.subplot(2, 2, 3)\n",
    "plt.plot(x, y3)\n",
    "plt.title('inestable')\n",
    "\n",
    "plt.subplot(2, 2, 4)\n",
    "plt.plot(x, y4)\n",
    "plt.title('Estable sobreamortiguado')\n",
    "\n"
   ]
  },
  {
   "cell_type": "markdown",
   "metadata": {},
   "source": [
    "### Ultimo Ejercicio"
   ]
  },
  {
   "cell_type": "markdown",
   "metadata": {},
   "source": [
    "Realiza lo siguiente en varias celdas abajo de esta:\n",
    "\n",
    "* Genera un vector de 1000 datos aleatorios distribuidos de acuerdo a una gaussiana con media 3 y varianza .5, y otro vector con 1000 datos aleatorios distribuidos con una madia 0 y una varianza unitaria. Al concatenar los dos vectores, estás generando una serie de datos proveniente de una distribución conocida como suma de gaussianas. Para ver como es esta distribución de datos, grafíca un histograma (con un número suficiente de bins).\n",
    "\n",
    "* Genera un vector de datos de entrada `x = np.linspace(0, 1, 1000)` y grafica $\\sin(2\\pi x)$, $\\sin(4\\pi x)$, $\\sin(8\\pi x)$. ¿Que conlusión puedes sacar al respecto? Realiza la gráfica con titulo, ejes, etiquetas y todo lo necesario para que sea publicable.\n",
    "\n",
    "* Grafica la función $e^{-t}\\cos(2\\pi t)$ para $t \\in [0, 5]$. Asegurate que la gráfica sea una linea punteada de color rojo, que la gráfica tenga título, etiqueta en el eje de $t$ (tiempo), etiqueta en el eje de $y$ (voltaje en $\\mu$V), y una nota donde se escriba la ecuación simulada.\n",
    "\n",
    "* Copia el ejemplo de la galería de matplotlib http://matplotlib.org/examples/pylab_examples/shading_example.html y modificalo para que se grafique dentro de la libreta. Una vez funcionando, comenta *cada linea de código* dejando bien claro **en español y con tus palabras** que es lo que hace cada una de las lineas."
   ]
  },
  {
   "cell_type": "code",
   "execution_count": null,
   "metadata": {},
   "outputs": [],
   "source": [
    "#Agrega aqui el primer problema y resualve cada problema en una celda independiente.\n",
    "mu, sigma = 3, np.sqrt(5) # media y desvio estandar\n",
    "arreglo1 = np.random.normal(mu, sigma, 1000) #creando muestra de datos\n",
    "print(\"Vector con numeros aleatorios con mu = {} y varianza = {}\\n\".format(mu,sigma))\n",
    "print(arreglo1)\n",
    "mu2, sigma2 = 0, 1 # media y desvio estandar\n",
    "arreglo2 = np.random.normal(mu2, sigma2, 1000) #creando muestra de datos\n",
    "print(\"Vector con numeros aleatorios con mu = {} y varianza = {}\\n\".format(mu2,sigma2))\n",
    "print(arreglo2)\n",
    "\n",
    "arreglo3 = np.r_[arreglo1, arreglo2]\n",
    "\n",
    "plt.hist(arreglo3, bins=100)\n",
    "plt.xlabel(\"Frecuencia\")\n",
    "plt.title(\"Suma de gaussianas\")\n"
   ]
  },
  {
   "cell_type": "code",
   "execution_count": null,
   "metadata": {},
   "outputs": [],
   "source": [
    "#segundo Problema\n",
    "x = np.linspace(0, 1, 1000)\n",
    "#las 3 funcones\n",
    "plt.plot(x, np.sin(2*np.pi*x), label=\"sin(2PI*x)\")\n",
    "plt.plot(x, np.sin(4*np.pi*x), label=\"sin(4PI*x)\")\n",
    "plt.plot(x, np.sin(8*np.pi*x), label=\"sin(8PI*x)\")\n",
    "\n",
    "plt.title('Funciones Seno')\n",
    "plt.xlabel(\"Radianes\")\n",
    "plt.ylabel(\"Seno\")\n",
    "\n",
    "plt.legend(loc='best')"
   ]
  },
  {
   "cell_type": "code",
   "execution_count": null,
   "metadata": {},
   "outputs": [],
   "source": [
    "#Tercer Problema\n",
    "t = np.linspace(0, 5, 100)\n",
    "\n",
    "plt.plot(t, np.exp(-t) * np.cos(2*np.pi*t), label=\"(e^-t)cos (2PIt)\", color='red', linestyle='--')\n",
    "\n",
    "plt.title('Voltaje en tiempo')\n",
    "plt.xlabel(\"t (tiempo)\")\n",
    "plt.ylabel(r\"$\\mu V$ (Voltaje)\")\n",
    "\n",
    "plt.legend(loc=\"best\")\n"
   ]
  },
  {
   "cell_type": "code",
   "execution_count": null,
   "metadata": {
    "collapsed": true
   },
   "outputs": [],
   "source": [
    "#Cuarto Problema\n"
   ]
  },
  {
   "cell_type": "code",
   "execution_count": null,
   "metadata": {
    "collapsed": true
   },
   "outputs": [],
   "source": []
  }
 ],
 "metadata": {
  "kernelspec": {
   "display_name": "Python 3",
   "language": "python",
   "name": "python3"
  },
  "language_info": {
   "codemirror_mode": {
    "name": "ipython",
    "version": 3
   },
   "file_extension": ".py",
   "mimetype": "text/x-python",
   "name": "python",
   "nbconvert_exporter": "python",
   "pygments_lexer": "ipython3",
   "version": "3.6.3"
  }
 },
 "nbformat": 4,
 "nbformat_minor": 2
}
