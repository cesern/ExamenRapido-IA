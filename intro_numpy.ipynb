{
 "cells": [
  {
   "cell_type": "markdown",
   "metadata": {},
   "source": [
    "<img src=\"imagenes/ia.png\", width=\"200\"\\>\n",
    "# Introducción a Numpy y Matplotlib"
   ]
  },
  {
   "cell_type": "markdown",
   "metadata": {},
   "source": [
    "## Inicialización de una libreta IP[y]"
   ]
  },
  {
   "cell_type": "markdown",
   "metadata": {},
   "source": [
    "Para inicializar la libreta y poderla utilizar con `numpy` y `matplotlib`, y asegurarse que los gráficos se presenten donde deben de estar es necesario ejecutar las siguientes instrucciones:"
   ]
  },
  {
   "cell_type": "code",
   "execution_count": 5,
   "metadata": {
    "collapsed": true
   },
   "outputs": [],
   "source": [
    "%matplotlib inline\n",
    "import numpy as np\n",
    "import matplotlib.pyplot as plt"
   ]
  },
  {
   "cell_type": "markdown",
   "metadata": {},
   "source": [
    "Recuerda que hay que ejecutar cada celda (cell) con *ctrl-enter* o con el simbolo de la flechita arriba de la libreta.\n",
    "\n",
    "La primer linea es un comando específico de `Jupyter` conocidos como *comandos mágicos*. En este comando le especificamos a la libreta que vamos a utilizar matplotlib para hacer gráficas y que queremos que las anexe dentro del documento. Existen muchos comandos mágicos, algunos muy útiles que vamos a ir viendo sobre la marcha. Para una explicacion completa está la libreta http://nbviewer.ipython.org/github/ipython/ipython/blob/1.x/examples/notebooks/Cell%20Magics.ipynb. \n"
   ]
  },
  {
   "cell_type": "markdown",
   "metadata": {},
   "source": [
    "## Inicializando variables en Numpy"
   ]
  },
  {
   "cell_type": "markdown",
   "metadata": {},
   "source": [
    "Numpy agrega a python básicamente dos nuevos tipos o clases, de los cuales solo nos vamos a interesar por los arreglos multidimensionales o `ndarray`. La manera más sencilla de crear un array (vector o matriz) es utilizando `array` como:"
   ]
  },
  {
   "cell_type": "code",
   "execution_count": 6,
   "metadata": {},
   "outputs": [
    {
     "name": "stdout",
     "output_type": "stream",
     "text": [
      "vector a = \n",
      "[  1.       3.1416  40.       0.       2.       5.    ]\n",
      "matriz A = \n",
      "[[1 2]\n",
      " [3 4]\n",
      " [5 6]]\n"
     ]
    }
   ],
   "source": [
    "# Crea un objeto vector\n",
    "vector_a = np.array([1, 3.1416, 40, 0, 2, 5])\n",
    "print(\"vector a = \\n{}\".format(vector_a)) \n",
    "\n",
    "      # Crea una matriz\n",
    "matriz_A = np.array([[1, 2], [3, 4], [5, 6]])\n",
    "print(\"matriz A = \\n{}\".format(matriz_A)) \n"
   ]
  },
  {
   "cell_type": "markdown",
   "metadata": {},
   "source": [
    "El autocompletado funciona muy bien en las libretas de `Jupyter` usando `TAB`. Si quieres conocer la documentación de una función, solo tienes que colocar el cursos al final de ella y utilizar `Shift-TAB` (hacerlo repetidas veces cambia el detalle de la documentación)."
   ]
  },
  {
   "cell_type": "code",
   "execution_count": 9,
   "metadata": {
    "collapsed": true
   },
   "outputs": [],
   "source": [
    "vr = np.array"
   ]
  },
  {
   "cell_type": "markdown",
   "metadata": {},
   "source": [
    "Esta es la manera más directa pero no la única (y en muchos casos la mas usada) para crear nuevos vectores multidimensionales. Existen otras maneras de generar arreglos como son las funciones:\n",
    "\n",
    "* `arange(ini=0, fin, inc=1)`: Devuelve un ndarray iniciando en ini y terminando en fin, con incrementos de inc\n",
    "\n",
    "* `zeros(dim)`: Devuelve un ndarray de dimensión dim (si es un escalar se considera un vector, si es una tupla de números entonces\n",
    "son las dimensiones del ndarray), con todas sus entradas en cero. \n",
    "      \n",
    "* `ones(dim)`: Similar a zeros() pero con unos.\n",
    "    \n",
    "* `eye(x, y=none)`: si solo se tiene el argumento x devuelve una matriz identidad de $x \\times x$. Si se encuentra y,\n",
    "entonces una matriz diagonal rectangular de dimensión x por y.\n",
    "      \n",
    "* `zeros_like( x )`: Un ndarray de ceros de la misma dimensión que x (igual existe ones_like).\n",
    "    \n",
    "* `linspace(inicial, final, elementos)`: Devuelve un ndarray de una dimensión iniciando en inicial, hasta final de \n",
    "manera que existan elementos numeros igualmente espaciados. Muy útil para graficación principalmente.\n",
    "      \n",
    "* `random.rand(dim1, dim2, ...)`: Devuelve un ndarray de dimensiones dim1 por dim2 por ... con números aleatorios\n",
    "generados por una distribución uniforme entre 0 y 1. \n",
    "      \n",
    "Veamos unos cuantos ejemplos:"
   ]
  },
  {
   "cell_type": "code",
   "execution_count": 10,
   "metadata": {},
   "outputs": [
    {
     "name": "stdout",
     "output_type": "stream",
     "text": [
      "Un vector de ceros con 5 valores\n",
      "[ 0.  0.  0.  0.  0.]\n"
     ]
    }
   ],
   "source": [
    "vZ = np.zeros(5)\n",
    "print(\"Un vector de ceros con 5 valores\")\n",
    "print(vZ)"
   ]
  },
  {
   "cell_type": "code",
   "execution_count": 11,
   "metadata": {},
   "outputs": [
    {
     "name": "stdout",
     "output_type": "stream",
     "text": [
      "Una matriz de 3 x 10 de puros unos\n",
      "[[ 1.  1.  1.  1.  1.  1.  1.  1.  1.  1.]\n",
      " [ 1.  1.  1.  1.  1.  1.  1.  1.  1.  1.]\n",
      " [ 1.  1.  1.  1.  1.  1.  1.  1.  1.  1.]]\n"
     ]
    }
   ],
   "source": [
    "mO = np.ones((3, 10))\n",
    "print(\"Una matriz de 3 x 10 de puros unos\")\n",
    "print(mO)"
   ]
  },
  {
   "cell_type": "code",
   "execution_count": 12,
   "metadata": {},
   "outputs": [
    {
     "name": "stdout",
     "output_type": "stream",
     "text": [
      "va = \n",
      "[0 1 2 3 4 5 6 7 8 9]\n"
     ]
    }
   ],
   "source": [
    "va = np.arange(10)\n",
    "print(\"va = \")\n",
    "print(va)"
   ]
  },
  {
   "cell_type": "code",
   "execution_count": 15,
   "metadata": {},
   "outputs": [
    {
     "name": "stdout",
     "output_type": "stream",
     "text": [
      "vb = \n",
      "[20 15 10  5  0 -5]\n"
     ]
    }
   ],
   "source": [
    "vb = np.arange(20,-10,-5)\n",
    "print(\"vb = \")\n",
    "print(vb)"
   ]
  },
  {
   "cell_type": "code",
   "execution_count": 16,
   "metadata": {},
   "outputs": [
    {
     "name": "stdout",
     "output_type": "stream",
     "text": [
      "Una matriz de ceros de las dimensiones de mO:\n",
      "[[ 0.  0.  0.  0.  0.  0.  0.  0.  0.  0.]\n",
      " [ 0.  0.  0.  0.  0.  0.  0.  0.  0.  0.]\n",
      " [ 0.  0.  0.  0.  0.  0.  0.  0.  0.  0.]]\n"
     ]
    }
   ],
   "source": [
    "print(\"Una matriz de ceros de las dimensiones de mO:\")\n",
    "print(np.zeros_like(mO))"
   ]
  },
  {
   "cell_type": "code",
   "execution_count": 17,
   "metadata": {},
   "outputs": [
    {
     "name": "stdout",
     "output_type": "stream",
     "text": [
      "Y una matriz con números aleatorios bajo una distribución uniforme entre 0 y 1\n",
      "[[ 0.89863435  0.92345239  0.45668423  0.20293111  0.75283714  0.06766371\n",
      "   0.40715732  0.15770319  0.75774771  0.01436373  0.88550959  0.95652179]\n",
      " [ 0.08377633  0.74531922  0.73076724  0.56960465  0.25797368  0.49827743\n",
      "   0.20601879  0.66304622  0.51817164  0.70487033  0.59179475  0.73646624]\n",
      " [ 0.84025959  0.83671523  0.88674642  0.01693282  0.27828543  0.17796358\n",
      "   0.92574177  0.34259858  0.15335762  0.68629307  0.60667124  0.58388608]\n",
      " [ 0.53870653  0.45423529  0.64499854  0.2225926   0.88877644  0.12933659\n",
      "   0.50703833  0.72832669  0.11785461  0.21051128  0.14339224  0.54361591]\n",
      " [ 0.7001795   0.61180136  0.95820043  0.9008228   0.3356582   0.34218849\n",
      "   0.61296266  0.84174207  0.08079848  0.43994819  0.64109373  0.52129351]]\n"
     ]
    }
   ],
   "source": [
    "mA = np.random.rand(5, 12)\n",
    "print(\"Y una matriz con números aleatorios bajo una distribución uniforme entre 0 y 1\")\n",
    "print(mA)"
   ]
  },
  {
   "cell_type": "markdown",
   "metadata": {},
   "source": [
    "### Ejercicio: "
   ]
  },
  {
   "cell_type": "markdown",
   "metadata": {},
   "source": [
    "En la siguiente celda (o puedes crear las que consideres convenientes) crea las siguientes matrices:\n",
    "\n",
    "* Una matriz de 4 por 6 con valores aleatorios de acuerdo a una distribución normal con media cero y varianza unitaria.\n",
    "    \n",
    "* Un vector de 10 elementos con valores aleatorios de números enteros entre 4 y 100\n",
    "    \n",
    "* Una matriz diagonal de 5 por 5 cuyos elementos de la diagonal sean (1, 2, 3, 4, 5)"
   ]
  },
  {
   "cell_type": "code",
   "execution_count": 20,
   "metadata": {
    "scrolled": true
   },
   "outputs": [
    {
     "name": "stdout",
     "output_type": "stream",
     "text": [
      "Una matriz con números aleatorios de acuerdo a una distribución normal con media cero y varianza unitaria\n",
      "[[-0.49175817  0.50509601 -1.21025481  0.40307901  0.83004587 -0.52501681]\n",
      " [-2.13140908 -0.55312555  1.75311007 -0.81321778  0.93197931  0.17050057]\n",
      " [ 1.45329256  0.76607176 -0.16119237 -0.2950708  -1.26272733 -0.85906342]\n",
      " [ 0.59098842 -1.17898051  0.70593542 -2.09163434  0.57139533  0.54545695]] \n",
      "\n",
      "\n",
      "Un vector de 10 elementos con valores aleatorios de números enteros entre 4 y 100\n",
      "[36 80 87 12 33 70 76 73 10 96] \n",
      "\n",
      "\n",
      "Una matriz diagonal de 5 por 5 cuyos elementos de la diagonal sean (1, 2, 3, 4, 5)\n",
      "[[ 1.  0.  0.  0.  0.]\n",
      " [ 0.  2.  0.  0.  0.]\n",
      " [ 0.  0.  3.  0.  0.]\n",
      " [ 0.  0.  0.  4.  0.]\n",
      " [ 0.  0.  0.  0.  5.]]\n"
     ]
    }
   ],
   "source": [
    "# Introduce aqui tus respuestas\n",
    "#Distribución normal\n",
    "mu, sigma = 0, 1 # media y desvio estandar\n",
    "mN = np.random.normal(mu, sigma, (4,6)) #creando muestra de datos\n",
    "print(\"Una matriz con números aleatorios de acuerdo a una distribución normal con media cero y varianza unitaria\")\n",
    "print(mN,\"\\n\\n\")\n",
    "#nuúeros aleatorios entre 4 y 100\n",
    "numeros = np.random.randint(4, 100, 10) #creando muestra de datos\n",
    "print(\"Un vector de 10 elementos con valores aleatorios de números enteros entre 4 y 100\")\n",
    "print(numeros,\"\\n\\n\")\n",
    "#matriz diagonal\n",
    "aD=np.zeros((5,5))\n",
    "np.fill_diagonal(aD,[i for i in range(1,6)]) #creando muestra de datos\n",
    "print(\"Una matriz diagonal de 5 por 5 cuyos elementos de la diagonal sean (1, 2, 3, 4, 5)\")\n",
    "print(aD)"
   ]
  },
  {
   "cell_type": "markdown",
   "metadata": {},
   "source": [
    "## Operaciones básicas de los ndarray"
   ]
  },
  {
   "cell_type": "markdown",
   "metadata": {},
   "source": [
    "La mayoría de las operaciones que se pueden aplicar e los ndarray se encuenran en el espacio de nombres de np, y las cuales son bastante directas tal como:\n",
    "\n",
    "    b = np.sin(a)\n",
    "\n",
    "la cual devuelve en b un ndarray de las mismas dimensiones que a, cuyas entradas son el seno de las entradas de a (en radianes).\n",
    "Así, parece inecesario explicar las funciones cos, tan, tanh, acos, asin, etc..\n",
    "\n",
    "Otras funciones muy útiles no son tan directas. Veamos algunas:\n",
    "\n",
    "    c = a + b\n",
    "\n",
    "es la suma de dos ndarray, bastante obvio, lo que no lo es tanto es:\n",
    "\n",
    "    c = a * b\n",
    "\n",
    "la cual es un ndarray resultante de la *multiplicación punto a punto* de los elementos de a y b, asumiendo que ambos tienen\n",
    "las mismas diensiones. ¿Y para aplicar un producto matricial? Pues se utiliza el comando dot (o producto punto) el cual puede ser\n",
    "expresado de dos formas:\n",
    "\n",
    "    c = np.dot(a, b)\n",
    "    c = a.dot(b)\n",
    "\n",
    "La suma de los elementos de un ndarray tambien es un método del objeto (como min, max, argmin, argmax, etc...)\n",
    "\n",
    "    b = a.sum()\n",
    "\n",
    "es la suma de *todos los elementos del array* mientras que\n",
    "\n",
    "    b = a.sum(axis=0) \n",
    "\n",
    "es un ndarray con una dimensión menos que a, con la suma de las columnas. Veamos unos ejemplos:"
   ]
  },
  {
   "cell_type": "code",
   "execution_count": 21,
   "metadata": {},
   "outputs": [
    {
     "name": "stdout",
     "output_type": "stream",
     "text": [
      "a = \n",
      "[[1 2 3]\n",
      " [4 5 6]]\n",
      "b = \n",
      "[[ 0.58745782  0.09050938  0.14963749]\n",
      " [ 0.79309117  0.87544617  0.94059272]]\n",
      "Suma de todos los números de b\n",
      "3.43673475643\n",
      "Media de cada columna de a\n",
      "[ 2.5  3.5  4.5]\n",
      "Transpuesta de a, forma larga\n",
      "[[1 4]\n",
      " [2 5]\n",
      " [3 6]]\n",
      "Transpuesta de a, forma preferida\n",
      "[[1 4]\n",
      " [2 5]\n",
      " [3 6]]\n",
      "10 * b = \n",
      "[[ 5.87457818  0.90509384  1.49637494]\n",
      " [ 7.93091166  8.75446175  9.40592719]]\n",
      "a * b =\n",
      "[[ 0.58745782  0.18101877  0.44891248]\n",
      " [ 3.17236467  4.37723087  5.64355632]]\n",
      "2 elevado a la matriz a\n",
      "[[ 2  4  8]\n",
      " [16 32 64]]\n",
      "a elevada al cuadrado (elemento a elemento)\n",
      "[[ 1  4  9]\n",
      " [16 25 36]]\n",
      "a.dot(b.T) = \n",
      "[[  1.21738907   5.36576167]\n",
      " [  3.70020315  13.19315186]]\n",
      "a.dot(b) debería dar error\n"
     ]
    },
    {
     "ename": "ValueError",
     "evalue": "shapes (2,3) and (2,3) not aligned: 3 (dim 1) != 2 (dim 0)",
     "output_type": "error",
     "traceback": [
      "\u001b[0;31m-----------------------------------------------------------------\u001b[0m",
      "\u001b[0;31mValueError\u001b[0m                      Traceback (most recent call last)",
      "\u001b[0;32m<ipython-input-21-e32160551db0>\u001b[0m in \u001b[0;36m<module>\u001b[0;34m()\u001b[0m\n\u001b[1;32m     34\u001b[0m \u001b[0;34m\u001b[0m\u001b[0m\n\u001b[1;32m     35\u001b[0m \u001b[0mprint\u001b[0m\u001b[0;34m(\u001b[0m\u001b[0;34m\"a.dot(b) debería dar error\"\u001b[0m\u001b[0;34m)\u001b[0m\u001b[0;34m\u001b[0m\u001b[0m\n\u001b[0;32m---> 36\u001b[0;31m \u001b[0mprint\u001b[0m\u001b[0;34m(\u001b[0m\u001b[0ma\u001b[0m\u001b[0;34m.\u001b[0m\u001b[0mdot\u001b[0m\u001b[0;34m(\u001b[0m\u001b[0mb\u001b[0m\u001b[0;34m)\u001b[0m\u001b[0;34m)\u001b[0m\u001b[0;34m\u001b[0m\u001b[0m\n\u001b[0m",
      "\u001b[0;31mValueError\u001b[0m: shapes (2,3) and (2,3) not aligned: 3 (dim 1) != 2 (dim 0)"
     ]
    }
   ],
   "source": [
    "# Vamos a generar varios ndarrays\n",
    "a = np.array([[1, 2, 3], [4, 5, 6]])\n",
    "b = np.random.rand(2, 3)\n",
    "\n",
    "print(\"a = \\n{}\".format(a))\n",
    "print(\"b = \\n{}\".format(b))\n",
    "\n",
    "print(\"Suma de todos los números de b\")\n",
    "print(b.sum())\n",
    "\n",
    "print(\"Media de cada columna de a\")\n",
    "print(a.mean(axis=0))\n",
    "\n",
    "print(\"Transpuesta de a, forma larga\")\n",
    "print(a.transpose())\n",
    "\n",
    "print(\"Transpuesta de a, forma preferida\")\n",
    "print(a.T)\n",
    "\n",
    "print(\"10 * b = \")\n",
    "print(10 * b)\n",
    "\n",
    "print(\"a * b =\")\n",
    "print(a * b)\n",
    "\n",
    "print(\"2 elevado a la matriz a\")\n",
    "print(np.power(2, a))\n",
    "\n",
    "print(\"a elevada al cuadrado (elemento a elemento)\")\n",
    "print(np.power(a, 2))\n",
    "\n",
    "print(\"a.dot(b.T) = \")\n",
    "print(a.dot(b.T))\n",
    "\n",
    "print(\"a.dot(b) debería dar error\")\n",
    "print(a.dot(b))"
   ]
  },
  {
   "cell_type": "markdown",
   "metadata": {},
   "source": [
    "Como vemos tenemos aqui una bateria completa de funciones, las cuales se aplican en un ndarray. ¿Pero que información tengo de un ndarray? ¿Como puedo componer un ndarray a partir de otros? \n",
    "\n",
    "La mejor manera de aprenderlo es experimentando, así que complet el siguiente **Eejercicio**.\n",
    "\n",
    "### Ejercicio: tTrata de inferir que es lo que debe contener cada array b, c, d, e, f, g, h sin hacer ninguna prueba y escribelos como comentario. Posteriormente, agrega los `print` que consideres necesarios para verificar que valores tiene b, c, d, e, f, g, h ."
   ]
  },
  {
   "cell_type": "code",
   "execution_count": 24,
   "metadata": {},
   "outputs": [
    {
     "name": "stdout",
     "output_type": "stream",
     "text": [
      "El número de dimensiones de a es: 1\n",
      "Y su forma es (100,)\n",
      "Y tiene 100 elementos\n",
      "\n",
      "Arreglo b\n",
      "\n",
      "[ 0  1  2  3  4  5  6  7  8  9 10 11 12 13 14 15 16 17 18 19] \n",
      "\n",
      "\n",
      "Arreglo c\n",
      "\n",
      "[20 21 22 23 24 25 26 27 28 29 30 31 32 33 34 35 36 37 38 39 40 41 42 43 44\n",
      " 45 46 47 48 49 50 51 52 53 54 55 56 57 58 59 60 61 62 63 64 65 66 67 68 69\n",
      " 70 71 72 73 74 75 76 77 78 79 80 81 82 83 84 85 86 87 88 89 90 91 92 93 94\n",
      " 95 96 97 98 99] \n",
      "\n",
      "\n",
      "Arreglo d\n",
      "\n",
      "[99 98 97 96 95 94 93 92 91] \n",
      "\n",
      "\n",
      "Arreglo e\n",
      "\n",
      "[10] \n",
      "\n",
      "\n",
      "Arreglo f\n",
      "\n",
      "[99 98 97 96 95 94 93 92 91 90 89 88 87 86 85 84 83 82 81 80 79 78 77 76 75\n",
      " 74 73 72 71 70 69 68 67 66 65 64 63 62 61 60 59 58 57 56 55 54 53 52 51 50\n",
      " 49 48 47 46 45 44 43 42 41 40 39 38 37 36 35 34 33 32 31 30 29 28 27 26 25\n",
      " 24 23 22 21 20 19 18 17 16 15 14 13 12 11 10  9  8  7  6  5  4  3  2  1  0] \n",
      "\n",
      "\n",
      "Arreglo g\n",
      "\n",
      "[ 0  5 10 15 20 25 30 35 40 45 50 55 60 65 70 75 80 85 90 95] \n",
      "\n",
      "\n",
      "Arreglo h\n",
      "\n",
      "[98 84 39] \n",
      "\n",
      "\n"
     ]
    }
   ],
   "source": [
    "#Generamos el ndarray\n",
    "a = np.arange(100)\n",
    "\n",
    "# Chacamos algunas propiedades\n",
    "print(\"El número de dimensiones de a es: {}\".format(a.ndim))\n",
    "print(\"Y su forma es {}\".format(a.shape))\n",
    "print(\"Y tiene {} elementos\".format(a.size))\n",
    "\n",
    "#Generamos algunos ndarrays a partir de a\n",
    "b, c = a[:20], a[20:]\n",
    "d, e = a[-1:-10:-1], a[10:11]\n",
    "f = a[::-1]\n",
    "g = a[a % 5 == 0]\n",
    "h = f[[1, 15, 60]]\n",
    "\n",
    "# Ahora trata de inferir que es lo que debe contener cada array b, c, d, e, f, g, h sin hacer ninguna prueba.\n",
    "#\n",
    "#   b tendria los primeros 20 del arreglo a\n",
    "#\n",
    "#   c tendria del elemento 20 en adelante del arreglo a\n",
    "#\n",
    "#   d tendria desde el ultimo elemento, luego restandole 1 al indice hasta llegar a 9 elementos\n",
    "#\n",
    "#   e tendria desde el elemento 10 hasta antes del 11, osea 1 elemento\n",
    "#\n",
    "#   f como en los primeros dos espacios no tiene nada deben de ser todos los elementos del arreglo a, pero \n",
    "#   en reversa, por el -1\n",
    "#\n",
    "#   g contiene los elementos del arreglo cuya división entre 5 da 0\n",
    "#\n",
    "#   h tiene los elementos 1, 15 y 60, del arreglo f donde estan en forma inversa\n",
    "#\n",
    "# Agrega ahora los print que consideres necesarios para verificar que valores tiene b, c, d, e, f, g, h \n",
    "print(\"\\nArreglo b\\n\")\n",
    "print(b,\"\\n\\n\")\n",
    "print(\"Arreglo c\\n\")\n",
    "print(c,\"\\n\\n\")\n",
    "print(\"Arreglo d\\n\")\n",
    "print(d,\"\\n\\n\")\n",
    "print(\"Arreglo e\\n\")\n",
    "print(e,\"\\n\\n\")\n",
    "print(\"Arreglo f\\n\")\n",
    "print(f,\"\\n\\n\")\n",
    "print(\"Arreglo g\\n\")\n",
    "print(g,\"\\n\\n\")\n",
    "print(\"Arreglo h\\n\")\n",
    "print(h,\"\\n\\n\")"
   ]
  },
  {
   "cell_type": "markdown",
   "metadata": {},
   "source": [
    "A partir de una matriz (un ndarray de dos dimensiones) se pueden ejemplificar otras cosas, por ejemplo:"
   ]
  },
  {
   "cell_type": "code",
   "execution_count": 25,
   "metadata": {},
   "outputs": [
    {
     "name": "stdout",
     "output_type": "stream",
     "text": [
      "b queda como: \n",
      "[[  0.00000000e+00   6.34239197e-02   1.26592454e-01   1.89251244e-01\n",
      "    2.51147987e-01   3.12033446e-01   3.71662456e-01   4.29794912e-01\n",
      "    4.86196736e-01   5.40640817e-01]\n",
      " [  5.92907929e-01   6.42787610e-01   6.90079011e-01   7.34591709e-01\n",
      "    7.76146464e-01   8.14575952e-01   8.49725430e-01   8.81453363e-01\n",
      "    9.09631995e-01   9.34147860e-01]\n",
      " [  9.54902241e-01   9.71811568e-01   9.84807753e-01   9.93838464e-01\n",
      "    9.98867339e-01   9.99874128e-01   9.96854776e-01   9.89821442e-01\n",
      "    9.78802446e-01   9.63842159e-01]\n",
      " [  9.45000819e-01   9.22354294e-01   8.95993774e-01   8.66025404e-01\n",
      "    8.32569855e-01   7.95761841e-01   7.55749574e-01   7.12694171e-01\n",
      "    6.66769001e-01   6.18158986e-01]\n",
      " [  5.67059864e-01   5.13677392e-01   4.58226522e-01   4.00930535e-01\n",
      "    3.42020143e-01   2.81732557e-01   2.20310533e-01   1.58001396e-01\n",
      "    9.50560433e-02   3.17279335e-02]\n",
      " [ -3.17279335e-02  -9.50560433e-02  -1.58001396e-01  -2.20310533e-01\n",
      "   -2.81732557e-01  -3.42020143e-01  -4.00930535e-01  -4.58226522e-01\n",
      "   -5.13677392e-01  -5.67059864e-01]\n",
      " [ -6.18158986e-01  -6.66769001e-01  -7.12694171e-01  -7.55749574e-01\n",
      "   -7.95761841e-01  -8.32569855e-01  -8.66025404e-01  -8.95993774e-01\n",
      "   -9.22354294e-01  -9.45000819e-01]\n",
      " [ -9.63842159e-01  -9.78802446e-01  -9.89821442e-01  -9.96854776e-01\n",
      "   -9.99874128e-01  -9.98867339e-01  -9.93838464e-01  -9.84807753e-01\n",
      "   -9.71811568e-01  -9.54902241e-01]\n",
      " [ -9.34147860e-01  -9.09631995e-01  -8.81453363e-01  -8.49725430e-01\n",
      "   -8.14575952e-01  -7.76146464e-01  -7.34591709e-01  -6.90079011e-01\n",
      "   -6.42787610e-01  -5.92907929e-01]\n",
      " [ -5.40640817e-01  -4.86196736e-01  -4.29794912e-01  -3.71662456e-01\n",
      "   -3.12033446e-01  -2.51147987e-01  -1.89251244e-01  -1.26592454e-01\n",
      "   -6.34239197e-02  -2.44929360e-16]]\n",
      "donde b tiene 2 dimensiones, con una forma (10, 10) y con 100 elementos.\n"
     ]
    }
   ],
   "source": [
    "#Generamos un arreglo con 100 valores equiespaciados del seno desde 0 a 2$\\pi$\n",
    "a = np.sin(np.linspace(0, 2 * np.pi, 100))\n",
    "\n",
    "#Lo convertimos en una matriz de 10 por (lo que sea), que lo que sea es 10 en este caso, seguro\n",
    "b = a.reshape((10, -1))\n",
    "print(\"b queda como: \\n{}\".format(b))\n",
    "print(\"donde b tiene {} dimensiones, con una forma {} y con {} elementos.\".format(b.ndim, b.shape, b.size))"
   ]
  },
  {
   "cell_type": "code",
   "execution_count": 26,
   "metadata": {},
   "outputs": [
    {
     "name": "stdout",
     "output_type": "stream",
     "text": [
      "La diferencia de a y c sería\n",
      "0.0\n"
     ]
    }
   ],
   "source": [
    "#Si queremos convertir un ndarray a un array de una sola dimension (desenrrollar la matriz sería el término ingenieril)\n",
    "c = b.ravel()\n",
    "\n",
    "print(\"La diferencia de a y c sería\")\n",
    "print((a - c).sum())"
   ]
  },
  {
   "cell_type": "code",
   "execution_count": 27,
   "metadata": {},
   "outputs": [
    {
     "name": "stdout",
     "output_type": "stream",
     "text": [
      "a es de forma (1, 30)\n",
      "b es de forma (30, 1)\n",
      "c es de forma (30, 2)\n",
      "d es de forma (2, 30)\n"
     ]
    }
   ],
   "source": [
    "# Si queremos hacer que un vector se comporte como un vector renglon\n",
    "a = np.arange(30).reshape(1,-1)\n",
    "print(\"a es de forma {}\".format(a.shape))\n",
    "\n",
    "# Y si queremos que sea un vector columna hacemos esto\n",
    "b = np.linspace(30, 35, 30).reshape(-1,1)\n",
    "print(\"b es de forma {}\".format(b.shape))\n",
    "\n",
    "# Y para hacer una concatenacion de columnas entonces utilizamps la forma especial np.c[]\n",
    "c = np.c_[a.T, b]\n",
    "print(\"c es de forma {}\".format(c.shape))\n",
    "\n",
    "#Y una concatenación de renglones es por lo tanto\n",
    "d = np.r_[a, b.T]\n",
    "print(\"d es de forma {}\".format(d.shape))"
   ]
  },
  {
   "cell_type": "markdown",
   "metadata": {},
   "source": [
    "Las funciones en `numpy` aplican para todos los elementos de un vector. Por ejemplo `np.sin(A)`, `np.log(A)` calculan el seno y el logritmo natural de cad uno de los elementos de `A`. La multiplicación *, suma +, division / y resta - (entre otras operaciones bnarias) se aplican tambien elemento a elemento, y se hacerlo con una constante, esta se generaliza a la dimensión de la matriz. Si bien la función $1/A$ donde $A$ es un vector o una matriz no tiene sentido en matemáticas, en numpy significa dividir 1 entre cada uno de los elementos de $A$ y devolver una matriz de mismas dimensiones que $A$\n",
    "\n",
    "### Ejercicio"
   ]
  },
  {
   "cell_type": "markdown",
   "metadata": {},
   "source": [
    "Realiza lo siguiente:\n",
    "\n",
    "* Genera una matriz de 100 por 5 de forma que en cada columna tengamos lo siguiente:\n",
    "    \n",
    "    - En la primer columna los valores entre -1 y 1, equiespaciados\n",
    "    - En la segunda columna el valor de seno para los valores de la primer columna\n",
    "    - En la tercer columna el valor de la función logística de los valores de la primer columna, la cual es $g(x) = \\frac{1}{1 + \\exp(-x)}$\n",
    "    - En la cuarta columna 1 si el valor de $\\sin(x) > 0$ y -1 en otro caso, donde $x$ son los valores de la primer columna (revisa la función np.where)\n",
    "    - En la quinta columna valores aleatorios de acuerdo a una distribución gaussiana con media 1 y varianza 0.5\n",
    "        \n",
    "* Encuentra un arreglo con todos los valores de la función logística, cuando el valor absoluto del seno de x es menor a 0.5\n",
    "    \n",
    "* Convierte este arraglo en una matriz con 5 columnas y los renglones que sean necesarios.\n",
    "        "
   ]
  },
  {
   "cell_type": "code",
   "execution_count": 29,
   "metadata": {},
   "outputs": [
    {
     "name": "stdout",
     "output_type": "stream",
     "text": [
      "Matriz de 100x5\n",
      "\n",
      "[[-1.         -0.97979798 -0.95959596 -0.93939394 -0.91919192 -0.8989899\n",
      "  -0.87878788 -0.85858586 -0.83838384 -0.81818182 -0.7979798  -0.77777778\n",
      "  -0.75757576 -0.73737374 -0.71717172 -0.6969697  -0.67676768 -0.65656566\n",
      "  -0.63636364 -0.61616162 -0.5959596  -0.57575758 -0.55555556 -0.53535354\n",
      "  -0.51515152 -0.49494949 -0.47474747 -0.45454545 -0.43434343 -0.41414141\n",
      "  -0.39393939 -0.37373737 -0.35353535 -0.33333333 -0.31313131 -0.29292929\n",
      "  -0.27272727 -0.25252525 -0.23232323 -0.21212121 -0.19191919 -0.17171717\n",
      "  -0.15151515 -0.13131313 -0.11111111 -0.09090909 -0.07070707 -0.05050505\n",
      "  -0.03030303 -0.01010101  0.01010101  0.03030303  0.05050505  0.07070707\n",
      "   0.09090909  0.11111111  0.13131313  0.15151515  0.17171717  0.19191919\n",
      "   0.21212121  0.23232323  0.25252525  0.27272727  0.29292929  0.31313131\n",
      "   0.33333333  0.35353535  0.37373737  0.39393939  0.41414141  0.43434343\n",
      "   0.45454545  0.47474747  0.49494949  0.51515152  0.53535354  0.55555556\n",
      "   0.57575758  0.5959596   0.61616162  0.63636364  0.65656566  0.67676768\n",
      "   0.6969697   0.71717172  0.73737374  0.75757576  0.77777778  0.7979798\n",
      "   0.81818182  0.83838384  0.85858586  0.87878788  0.8989899   0.91919192\n",
      "   0.93939394  0.95959596  0.97979798  1.        ]\n",
      " [-0.84147098 -0.83038482 -0.81895978 -0.8072005  -0.79511181 -0.78269862\n",
      "  -0.76996601 -0.75691917 -0.74356342 -0.72990422 -0.71594714 -0.70169788\n",
      "  -0.68716224 -0.67234618 -0.65725572 -0.64189703 -0.62627638 -0.61040014\n",
      "  -0.59427479 -0.57790691 -0.56130318 -0.54447039 -0.52741539 -0.51014514\n",
      "  -0.49266671 -0.47498721 -0.45711386 -0.43905397 -0.42081489 -0.40240408\n",
      "  -0.38382904 -0.36509735 -0.34621667 -0.3271947  -0.30803919 -0.28875797\n",
      "  -0.26935891 -0.24984992 -0.23023896 -0.21053404 -0.1907432  -0.17087452\n",
      "  -0.1509361  -0.13093608 -0.11088263 -0.09078392 -0.07064817 -0.05048358\n",
      "  -0.03029839 -0.01010084  0.01010084  0.03029839  0.05048358  0.07064817\n",
      "   0.09078392  0.11088263  0.13093608  0.1509361   0.17087452  0.1907432\n",
      "   0.21053404  0.23023896  0.24984992  0.26935891  0.28875797  0.30803919\n",
      "   0.3271947   0.34621667  0.36509735  0.38382904  0.40240408  0.42081489\n",
      "   0.43905397  0.45711386  0.47498721  0.49266671  0.51014514  0.52741539\n",
      "   0.54447039  0.56130318  0.57790691  0.59427479  0.61040014  0.62627638\n",
      "   0.64189703  0.65725572  0.67234618  0.68716224  0.70169788  0.71594714\n",
      "   0.72990422  0.74356342  0.75691917  0.76996601  0.78269862  0.79511181\n",
      "   0.8072005   0.81895978  0.83038482  0.84147098]\n",
      " [ 0.26894142  0.27293187  0.2769591   0.28102278  0.28512257  0.28925812\n",
      "   0.29342902  0.29763488  0.30187528  0.30614975  0.31045783  0.31479902\n",
      "   0.31917283  0.3235787   0.32801609  0.33248443  0.33698311  0.34151151\n",
      "   0.34606901  0.35065493  0.35526862  0.35990936  0.36457644  0.36926913\n",
      "   0.37398667  0.37872829  0.3834932   0.38828059  0.39308964  0.3979195\n",
      "   0.40276933  0.40763825  0.41252537  0.41742979  0.42235061  0.42728688\n",
      "   0.43223768  0.43720205  0.44217903  0.44716765  0.45216693  0.45717588\n",
      "   0.46219351  0.46721881  0.47225076  0.47728837  0.48233059  0.48737642\n",
      "   0.49242482  0.49747477  0.50252523  0.50757518  0.51262358  0.51766941\n",
      "   0.52271163  0.52774924  0.53278119  0.53780649  0.54282412  0.54783307\n",
      "   0.55283235  0.55782097  0.56279795  0.56776232  0.57271312  0.57764939\n",
      "   0.58257021  0.58747463  0.59236175  0.59723067  0.6020805   0.60691036\n",
      "   0.61171941  0.6165068   0.62127171  0.62601333  0.63073087  0.63542356\n",
      "   0.64009064  0.64473138  0.64934507  0.65393099  0.65848849  0.66301689\n",
      "   0.66751557  0.67198391  0.6764213   0.68082717  0.68520098  0.68954217\n",
      "   0.69385025  0.69812472  0.70236512  0.70657098  0.71074188  0.71487743\n",
      "   0.71897722  0.7230409   0.72706813  0.73105858]\n",
      " [-1.         -1.         -1.         -1.         -1.         -1.         -1.\n",
      "  -1.         -1.         -1.         -1.         -1.         -1.         -1.\n",
      "  -1.         -1.         -1.         -1.         -1.         -1.         -1.\n",
      "  -1.         -1.         -1.         -1.         -1.         -1.         -1.\n",
      "  -1.         -1.         -1.         -1.         -1.         -1.         -1.\n",
      "  -1.         -1.         -1.         -1.         -1.         -1.         -1.\n",
      "  -1.         -1.         -1.         -1.         -1.         -1.         -1.\n",
      "  -1.          1.          1.          1.          1.          1.          1.\n",
      "   1.          1.          1.          1.          1.          1.          1.\n",
      "   1.          1.          1.          1.          1.          1.          1.\n",
      "   1.          1.          1.          1.          1.          1.          1.\n",
      "   1.          1.          1.          1.          1.          1.          1.\n",
      "   1.          1.          1.          1.          1.          1.          1.\n",
      "   1.          1.          1.          1.          1.          1.          1.\n",
      "   1.          1.        ]\n",
      " [ 0.54706677  1.38844585  1.13373624  0.50671637  1.90043727  1.45012962\n",
      "   1.05222333  0.55002927  0.66831771  1.07413752  1.63006296  0.89965794\n",
      "   0.68687562  1.30630766  1.34727314  0.71409631  1.58990706  0.70925849\n",
      "   1.11097138  0.48966937  0.30412982  0.1259323   2.17740928  1.44648805\n",
      "   1.98621921 -0.13192646  1.57059861  0.32004286  1.60798059  1.4280232\n",
      "   1.84893465  0.77871907  0.36936916  0.52625692  1.30418127  1.11919711\n",
      "   1.23075528  1.14843818  0.84435865  0.42790357  0.92340267  1.35396794\n",
      "   2.12833128  0.57530312  1.06473223  0.40620089  0.7813073   0.91018437\n",
      "   1.18683667  1.83218162  1.09217251  0.89446322  1.22835317  2.20788951\n",
      "   2.64317637  2.373299    0.6978767   1.57847075  2.25120354 -0.08598153\n",
      "   0.57397814  1.20214823  0.6633616   0.94254104  0.76906099  0.63206191\n",
      "   1.21220652  0.30031699  0.58583372  1.53806194  1.21749744  1.31814075\n",
      "   0.81527701  1.29869311  0.55441497  0.12943572  2.37767174  0.18927365\n",
      "   0.34272135  0.90007599  1.28557662  2.03630792 -0.12901203  1.56636981\n",
      "   1.10881542  0.45057628  0.65718015  0.1352558   0.62164412  0.55340642\n",
      "   1.4795749   1.75816264  2.41576142  1.95729837  2.11507082  2.60205677\n",
      "   0.68809745  1.69293319  1.82030709  2.19785656]] \n",
      "\n",
      "\n",
      "Matriz de 5 columnas\n",
      "\n",
      "[[-1.         -0.97979798 -0.95959596 -0.93939394 -0.91919192]\n",
      " [-0.8989899  -0.87878788 -0.85858586 -0.83838384 -0.81818182]\n",
      " [-0.7979798  -0.77777778 -0.75757576 -0.73737374 -0.71717172]\n",
      " [-0.6969697  -0.67676768 -0.65656566 -0.63636364 -0.61616162]\n",
      " [-0.5959596  -0.57575758 -0.55555556 -0.53535354 -0.51515152]\n",
      " [-0.49494949 -0.47474747 -0.45454545 -0.43434343 -0.41414141]\n",
      " [-0.39393939 -0.37373737 -0.35353535 -0.33333333 -0.31313131]\n",
      " [-0.29292929 -0.27272727 -0.25252525 -0.23232323 -0.21212121]\n",
      " [-0.19191919 -0.17171717 -0.15151515 -0.13131313 -0.11111111]\n",
      " [-0.09090909 -0.07070707 -0.05050505 -0.03030303 -0.01010101]\n",
      " [ 0.01010101  0.03030303  0.05050505  0.07070707  0.09090909]\n",
      " [ 0.11111111  0.13131313  0.15151515  0.17171717  0.19191919]\n",
      " [ 0.21212121  0.23232323  0.25252525  0.27272727  0.29292929]\n",
      " [ 0.31313131  0.33333333  0.35353535  0.37373737  0.39393939]\n",
      " [ 0.41414141  0.43434343  0.45454545  0.47474747  0.49494949]\n",
      " [ 0.51515152  0.53535354  0.55555556  0.57575758  0.5959596 ]\n",
      " [ 0.61616162  0.63636364  0.65656566  0.67676768  0.6969697 ]\n",
      " [ 0.71717172  0.73737374  0.75757576  0.77777778  0.7979798 ]\n",
      " [ 0.81818182  0.83838384  0.85858586  0.87878788  0.8989899 ]\n",
      " [ 0.91919192  0.93939394  0.95959596  0.97979798  1.        ]\n",
      " [-0.84147098 -0.83038482 -0.81895978 -0.8072005  -0.79511181]\n",
      " [-0.78269862 -0.76996601 -0.75691917 -0.74356342 -0.72990422]\n",
      " [-0.71594714 -0.70169788 -0.68716224 -0.67234618 -0.65725572]\n",
      " [-0.64189703 -0.62627638 -0.61040014 -0.59427479 -0.57790691]\n",
      " [-0.56130318 -0.54447039 -0.52741539 -0.51014514 -0.49266671]\n",
      " [-0.47498721 -0.45711386 -0.43905397 -0.42081489 -0.40240408]\n",
      " [-0.38382904 -0.36509735 -0.34621667 -0.3271947  -0.30803919]\n",
      " [-0.28875797 -0.26935891 -0.24984992 -0.23023896 -0.21053404]\n",
      " [-0.1907432  -0.17087452 -0.1509361  -0.13093608 -0.11088263]\n",
      " [-0.09078392 -0.07064817 -0.05048358 -0.03029839 -0.01010084]\n",
      " [ 0.01010084  0.03029839  0.05048358  0.07064817  0.09078392]\n",
      " [ 0.11088263  0.13093608  0.1509361   0.17087452  0.1907432 ]\n",
      " [ 0.21053404  0.23023896  0.24984992  0.26935891  0.28875797]\n",
      " [ 0.30803919  0.3271947   0.34621667  0.36509735  0.38382904]\n",
      " [ 0.40240408  0.42081489  0.43905397  0.45711386  0.47498721]\n",
      " [ 0.49266671  0.51014514  0.52741539  0.54447039  0.56130318]\n",
      " [ 0.57790691  0.59427479  0.61040014  0.62627638  0.64189703]\n",
      " [ 0.65725572  0.67234618  0.68716224  0.70169788  0.71594714]\n",
      " [ 0.72990422  0.74356342  0.75691917  0.76996601  0.78269862]\n",
      " [ 0.79511181  0.8072005   0.81895978  0.83038482  0.84147098]\n",
      " [ 0.26894142  0.27293187  0.2769591   0.28102278  0.28512257]\n",
      " [ 0.28925812  0.29342902  0.29763488  0.30187528  0.30614975]\n",
      " [ 0.31045783  0.31479902  0.31917283  0.3235787   0.32801609]\n",
      " [ 0.33248443  0.33698311  0.34151151  0.34606901  0.35065493]\n",
      " [ 0.35526862  0.35990936  0.36457644  0.36926913  0.37398667]\n",
      " [ 0.37872829  0.3834932   0.38828059  0.39308964  0.3979195 ]\n",
      " [ 0.40276933  0.40763825  0.41252537  0.41742979  0.42235061]\n",
      " [ 0.42728688  0.43223768  0.43720205  0.44217903  0.44716765]\n",
      " [ 0.45216693  0.45717588  0.46219351  0.46721881  0.47225076]\n",
      " [ 0.47728837  0.48233059  0.48737642  0.49242482  0.49747477]\n",
      " [ 0.50252523  0.50757518  0.51262358  0.51766941  0.52271163]\n",
      " [ 0.52774924  0.53278119  0.53780649  0.54282412  0.54783307]\n",
      " [ 0.55283235  0.55782097  0.56279795  0.56776232  0.57271312]\n",
      " [ 0.57764939  0.58257021  0.58747463  0.59236175  0.59723067]\n",
      " [ 0.6020805   0.60691036  0.61171941  0.6165068   0.62127171]\n",
      " [ 0.62601333  0.63073087  0.63542356  0.64009064  0.64473138]\n",
      " [ 0.64934507  0.65393099  0.65848849  0.66301689  0.66751557]\n",
      " [ 0.67198391  0.6764213   0.68082717  0.68520098  0.68954217]\n",
      " [ 0.69385025  0.69812472  0.70236512  0.70657098  0.71074188]\n",
      " [ 0.71487743  0.71897722  0.7230409   0.72706813  0.73105858]\n",
      " [-1.         -1.         -1.         -1.         -1.        ]\n",
      " [-1.         -1.         -1.         -1.         -1.        ]\n",
      " [-1.         -1.         -1.         -1.         -1.        ]\n",
      " [-1.         -1.         -1.         -1.         -1.        ]\n",
      " [-1.         -1.         -1.         -1.         -1.        ]\n",
      " [-1.         -1.         -1.         -1.         -1.        ]\n",
      " [-1.         -1.         -1.         -1.         -1.        ]\n",
      " [-1.         -1.         -1.         -1.         -1.        ]\n",
      " [-1.         -1.         -1.         -1.         -1.        ]\n",
      " [-1.         -1.         -1.         -1.         -1.        ]\n",
      " [ 1.          1.          1.          1.          1.        ]\n",
      " [ 1.          1.          1.          1.          1.        ]\n",
      " [ 1.          1.          1.          1.          1.        ]\n",
      " [ 1.          1.          1.          1.          1.        ]\n",
      " [ 1.          1.          1.          1.          1.        ]\n",
      " [ 1.          1.          1.          1.          1.        ]\n",
      " [ 1.          1.          1.          1.          1.        ]\n",
      " [ 1.          1.          1.          1.          1.        ]\n",
      " [ 1.          1.          1.          1.          1.        ]\n",
      " [ 1.          1.          1.          1.          1.        ]\n",
      " [ 0.54706677  1.38844585  1.13373624  0.50671637  1.90043727]\n",
      " [ 1.45012962  1.05222333  0.55002927  0.66831771  1.07413752]\n",
      " [ 1.63006296  0.89965794  0.68687562  1.30630766  1.34727314]\n",
      " [ 0.71409631  1.58990706  0.70925849  1.11097138  0.48966937]\n",
      " [ 0.30412982  0.1259323   2.17740928  1.44648805  1.98621921]\n",
      " [-0.13192646  1.57059861  0.32004286  1.60798059  1.4280232 ]\n",
      " [ 1.84893465  0.77871907  0.36936916  0.52625692  1.30418127]\n",
      " [ 1.11919711  1.23075528  1.14843818  0.84435865  0.42790357]\n",
      " [ 0.92340267  1.35396794  2.12833128  0.57530312  1.06473223]\n",
      " [ 0.40620089  0.7813073   0.91018437  1.18683667  1.83218162]\n",
      " [ 1.09217251  0.89446322  1.22835317  2.20788951  2.64317637]\n",
      " [ 2.373299    0.6978767   1.57847075  2.25120354 -0.08598153]\n",
      " [ 0.57397814  1.20214823  0.6633616   0.94254104  0.76906099]\n",
      " [ 0.63206191  1.21220652  0.30031699  0.58583372  1.53806194]\n",
      " [ 1.21749744  1.31814075  0.81527701  1.29869311  0.55441497]\n",
      " [ 0.12943572  2.37767174  0.18927365  0.34272135  0.90007599]\n",
      " [ 1.28557662  2.03630792 -0.12901203  1.56636981  1.10881542]\n",
      " [ 0.45057628  0.65718015  0.1352558   0.62164412  0.55340642]\n",
      " [ 1.4795749   1.75816264  2.41576142  1.95729837  2.11507082]\n",
      " [ 2.60205677  0.68809745  1.69293319  1.82030709  2.19785656]] \n",
      "\n",
      "\n"
     ]
    }
   ],
   "source": [
    "#  Escribe aqui tu código\n",
    "#funcion g\n",
    "def g(x):\n",
    "    a=np.copy(x)\n",
    "    for i in range(len(a)):\n",
    "        #i=1/(1+np.exp(-i))\n",
    "        a[i]=1/(1+np.exp(-a[i]))\n",
    "    return a\n",
    "#creo el arreglo con ceros al inicio\n",
    "matriz=np.zeros((5,100))\n",
    "#obtener las longitudes\n",
    "alto,largo=matriz.shape\n",
    "#la primer colunma con valores equidistantes entre -1 y 1\n",
    "matriz[0]=np.linspace(-1, 1, largo)\n",
    "#segunda columna cone l seno de los valores de la columna 1\n",
    "matriz[1]=np.sin(matriz[0])\n",
    "#la tercer columna con los valores de la funcion g aplicada a la columna 1\n",
    "matriz[2]=np.apply_along_axis(g,0,matriz[0])\n",
    "#columna 4\n",
    "#los indices donde se cumple la condicion\n",
    "indices=np.where(np.sin(matriz[0])>0)[0]\n",
    "matriz[3]=[1 if i in indices else -1 for i in range(len(matriz[0]))]\n",
    "#columna 5\n",
    "mu, sigma = 1, np.sqrt(.5) # media y desvio estandar\n",
    "matriz[4] = np.random.normal(mu, sigma, len(matriz[0])) #creando muestra de datos\n",
    "print(\"Matriz de 100x5\\n\")\n",
    "print(matriz,\"\\n\\n\")\n",
    "\"\"\"\n",
    "FALTA EL PPUNTO 2\n",
    "\"\"\"\n",
    "#convertir el arreglo en uno de 5 columnas y las filas necesarias\n",
    "matriz2= matriz.reshape((-1,5))\n",
    "print(\"Matriz de 5 columnas\\n\")\n",
    "print(matriz2,\"\\n\\n\")\n"
   ]
  },
  {
   "cell_type": "markdown",
   "metadata": {},
   "source": [
    "Además de estas funciones, numpy cuenta con funciones del algebra lineal altamente optimizadas (aunque no paralelizadas), las cuales son (entre otras):\n",
    "\n",
    "* `np.linalg.inv(a)`: Inversa de a\n",
    "* `np.linalg.pinv(a)`: Pseudoinversa de Ross-Penrose de a (muy útil para nosotros)\n",
    "* `np.linalg.det(a)`: determinante de a\n",
    "* `np.linalg.eig(a)`: eigenvalores y eigenvectores de a\n",
    "* `np.linalg.svd(a)`: Valores singulares de a"
   ]
  },
  {
   "cell_type": "markdown",
   "metadata": {},
   "source": [
    "## Haciendo gráficas sencillas con Matplotlib"
   ]
  },
  {
   "cell_type": "markdown",
   "metadata": {},
   "source": [
    "La mejor manera de mostrar como funcionan las facilidades que ofrece matplotlib, es mostrando directamente su uso más sencillo,\n",
    "así que veamos un ejemplo muy simple. Es importante recordar que en la primer celda de esta libreta se definió la manera de realizar las gráficas (dentro del documento y no como figuras aparte), así como se cargo matplotlib en el espacio de nombres plt."
   ]
  },
  {
   "cell_type": "code",
   "execution_count": 30,
   "metadata": {},
   "outputs": [
    {
     "data": {
      "text/plain": [
       "[-3.1416, 3.1416, -1.1, 1.1]"
      ]
     },
     "execution_count": 30,
     "metadata": {},
     "output_type": "execute_result"
    },
    {
     "data": {
      "image/png": "[encoded data removed]",
      "text/plain": [
       "<matplotlib.figure.Figure at 0x7f0dd1d09ef0>"
      ]
     },
     "metadata": {},
     "output_type": "display_data"
    }
   ],
   "source": [
    "# Vamos a hacerlo pasito a pasito\n",
    "\n",
    "# Primero obtenemos un vector x\n",
    "x = np.linspace(-np.pi, np.pi, 1000)\n",
    "\n",
    "# Luego obtenemos un vector y bastante trivial\n",
    "y = np.sin(x)\n",
    "\n",
    "# Y ahora hacemos una gráfica bastante básica de x y y\n",
    "plt.plot(x, y)\n",
    "plt.xlabel(\"el eje de las x's\")\n",
    "plt.ylabel(\"el eje de las y's\")\n",
    "plt.title(\"Este es un plot bastante trivial y sin mucho chiste\")\n",
    "\n",
    "# Bueno como la gráfica no esta muy bien a lo mejor se ve mejor si modificamos los limites de los ejes\n",
    "plt.axis([-3.1416, 3.1416, -1.1, 1.1])"
   ]
  },
  {
   "cell_type": "markdown",
   "metadata": {},
   "source": [
    "Aunque a veces queremos hacer unas gráficas más bien indicativas por lo que un estilo más informal podría ser útil:\n"
   ]
  },
  {
   "cell_type": "code",
   "execution_count": 31,
   "metadata": {},
   "outputs": [
    {
     "name": "stderr",
     "output_type": "stream",
     "text": [
      "/home/ceseagle/anaconda3/lib/python3.6/site-packages/matplotlib/font_manager.py:1316: UserWarning: findfont: Font family ['xkcd', 'Humor Sans', 'Comic Sans MS'] not found. Falling back to DejaVu Sans\n",
      "  (prop.get_family(), self.defaultFamily[fontext]))\n"
     ]
    },
    {
     "data": {
      "image/png": "[encoded data removed]",
      "text/plain": [
       "<matplotlib.figure.Figure at 0x7f0dd1d2ba90>"
      ]
     },
     "metadata": {},
     "output_type": "display_data"
    }
   ],
   "source": [
    "with plt.xkcd():\n",
    "    plt.plot(x, y)\n",
    "    plt.xlabel(\"el eje de las x's\")\n",
    "    plt.ylabel(\"el eje de las y's\")\n",
    "    plt.title(\"Este es un plot bastante trivial y sin mucho chiste\")\n",
    "    plt.axis([-3.1416, 3.1416, -1.1, 1.1])"
   ]
  },
  {
   "cell_type": "markdown",
   "metadata": {},
   "source": [
    "Hay que tener mucho cuidado, ya que si no se utiliza plt.xkcd() dentro de un with, entonces va a modificar todas las graficas que se realicen en la libreta (a veces es deseable, pero es una mejor práctica de programación hacerlo así).\n",
    "\n",
    "Ahora hagamos una gráfica con varios valores diferentes"
   ]
  },
  {
   "cell_type": "code",
   "execution_count": null,
   "metadata": {
    "collapsed": true
   },
   "outputs": [],
   "source": [
    "plt.plot(x, np.sin(x), label='seno')\n",
    "\n",
    "plt.plot(x, 1/(1 + np.exp(-x)), label=u\"logística\")\n",
    "\n",
    "plt.plot(x, (0.2 * x * x) - 0.5, label=r'$0.2 x^2 - 0.5$')\n",
    "\n",
    "plt.axis([-3.1416, 3.1416, -1.1, 1.4])\n",
    "\n",
    "plt.title(\"Tres funciones piteras juntas\")\n",
    "plt.xlabel(r\"$\\theta$ (rad)\")\n",
    "plt.ylabel(\"magnitud\")\n",
    "\n",
    "plt.legend(loc=0)"
   ]
  },
  {
   "cell_type": "markdown",
   "metadata": {},
   "source": [
    "Hay muchos tipos de funciones, lo mejor para saber como ustilizar matplotlib es ver la galeria de ejemplo que se encuentran en la ayuda,\n",
    "y pueden consultarse en http://matplotlib.org/gallery.html (al darle click a una imagen se puede ver el código que la genera).\n",
    "\n",
    "Por ejemplo si queremos una gráfica tipo pay con estlos diferentes:"
   ]
  },
  {
   "cell_type": "code",
   "execution_count": null,
   "metadata": {
    "collapsed": true
   },
   "outputs": [],
   "source": [
    "labels = 'Tortas', 'Taquitos', 'Burros', 'Ensaladas'\n",
    "porcentajes = [15, 30, 45, 10]\n",
    "colores = ['yellowgreen', 'gold', 'lightskyblue', 'lightcoral']\n",
    "separa = (0, 0.1, 0, 0) # solo separa la segunda rebanada (i.e. 'Taquitos')\n",
    "\n",
    "with plt.xkcd():\n",
    "    plt.pie(porcentajes, explode=separa, labels=labels, colors=colores, autopct='%1.1f%%', shadow=True, startangle=90)\n",
    "    plt.axis('equal') #Para que el pay se vea como un círculo\n",
    "    plt.xlabel(u'Lo que como cuando me quedo en la UNISON a mediodía')\n",
    "    plt.show()\n",
    "\n",
    "\n",
    "\n",
    "    "
   ]
  },
  {
   "cell_type": "markdown",
   "metadata": {},
   "source": [
    "O si queremos una gráfica tipo contorno con todo y datos"
   ]
  },
  {
   "cell_type": "code",
   "execution_count": null,
   "metadata": {
    "collapsed": true
   },
   "outputs": [],
   "source": [
    "# Genera datos en los ejes x y y de forma uniforme entre -2 y 2\n",
    "# prueba generando 2000 puntos (con y sin colores) pero para \n",
    "# 2000 puntos no vayas a dibujar los valores parque no se va a ver nada.\n",
    "x = np.random.uniform(-2, 2, 200)\n",
    "y = np.random.uniform(-2, 2, 200)\n",
    "\n",
    "# Genera los valores en z en cada punto generado, con la función siguiente\n",
    "z = x * np.exp(-x ** 2 - y ** 2)\n",
    "\n",
    "# define el grid donde se muestran los datos\n",
    "xi = np.linspace(-2.1, 2.1, 100)\n",
    "yi = np.linspace(-2.1, 2.1, 200)\n",
    "\n",
    "# Genera datos de z interpolados para tener mejor presición en el contorno\n",
    "from matplotlib.mlab import griddata\n",
    "zi = griddata(x, y, z, xi, yi, interp='linear')\n",
    "\n",
    "# Hace una gráfica de contorno con únicamente lineas de nivel.\n",
    "plt.contour(xi, yi, zi, 15, linewidths=0.5, colors='k')\n",
    "\n",
    "# Para hacerlo mas acá pues se puede agregar color a cada nivel y agregarle una barra de nivel de color\n",
    "plt.contourf(xi, yi, zi, 15, cmap=plt.cm.rainbow, vmax=abs(zi).max(), vmin=-abs(zi).max())\n",
    "plt.colorbar() # draw colorbar\n",
    "\n",
    "# Grafica los puntos generados sobre el contorno.\n",
    "plt.scatter(x, y, marker='o', c='b', s=5, zorder=10)\n",
    "\n",
    "# Hace los límites de la gráfica exactos\n",
    "plt.axis([-2, 2, -2, 2])\n",
    "\n",
    "plt.title('Prueba para un contorno con datos generados')"
   ]
  },
  {
   "cell_type": "markdown",
   "metadata": {},
   "source": [
    "Por último, un detalle muy importante y que puede ser de mucha utilidad: La generación de subplots. Una figura puede contener varias subgraficas, para esto hay que especificar en cuantas gráficas vamos a dividir la figura en forma de renglones y columnas, y luego seleccionar la subgráfica en la que vamos a graficar. Por ejemplo\n",
    "\n",
    "    plt.subplot(2,2,1)\n",
    "    \n",
    "significa que la figura la vamos a dividir en 2 renglones y dos columnas (cuatro subgráficas) y vamos a escribir sobre la subgráfica 1. Lo mejor es ilustrarlo con un ejemplo muy simple."
   ]
  },
  {
   "cell_type": "code",
   "execution_count": null,
   "metadata": {
    "collapsed": true
   },
   "outputs": [],
   "source": [
    "x = np.linspace(0, 5, 1000)\n",
    "y1 = np.exp(-0.2 * x) * np.cos(2 * np.pi * x)\n",
    "y2 = np.cos(2 * np.pi * x)\n",
    "y3 = np.exp(0.2 * x) * np.cos(2 * np.pi * x)\n",
    "y4 = np.exp(-0.1 * x)\n",
    "\n",
    "plt.subplot(2, 2, 1)\n",
    "plt.plot(x, y1)\n",
    "plt.title('Estable subamortiguado')\n",
    "\n",
    "plt.subplot(2, 2, 2)\n",
    "plt.plot(x, y2)\n",
    "plt.title('Criticamente estable')\n",
    "\n",
    "plt.subplot(2, 2, 3)\n",
    "plt.plot(x, y3)\n",
    "plt.title('inestable')\n",
    "\n",
    "plt.subplot(2, 2, 4)\n",
    "plt.plot(x, y4)\n",
    "plt.title('Estable sobreamortiguado')\n",
    "\n"
   ]
  },
  {
   "cell_type": "markdown",
   "metadata": {},
   "source": [
    "### Ultimo Ejercicio"
   ]
  },
  {
   "cell_type": "markdown",
   "metadata": {},
   "source": [
    "Realiza lo siguiente en varias celdas abajo de esta:\n",
    "\n",
    "* Genera un vector de 1000 datos aleatorios distribuidos de acuerdo a una gaussiana con media 3 y varianza .5, y otro vector con 1000 datos aleatorios distribuidos con una madia 0 y una varianza unitaria. Al concatenar los dos vectores, estás generando una serie de datos proveniente de una distribución conocida como suma de gaussianas. Para ver como es esta distribución de datos, grafíca un histograma (con un número suficiente de bins).\n",
    "\n",
    "* Genera un vector de datos de entrada `x = np.linspace(0, 1, 1000)` y grafica $\\sin(2\\pi x)$, $\\sin(4\\pi x)$, $\\sin(8\\pi x)$. ¿Que conlusión puedes sacar al respecto? Realiza la gráfica con titulo, ejes, etiquetas y todo lo necesario para que sea publicable.\n",
    "\n",
    "* Grafica la función $e^{-t}\\cos(2\\pi t)$ para $t \\in [0, 5]$. Asegurate que la gráfica sea una linea punteada de color rojo, que la gráfica tenga título, etiqueta en el eje de $t$ (tiempo), etiqueta en el eje de $y$ (voltaje en $\\mu$V), y una nota donde se escriba la ecuación simulada.\n",
    "\n",
    "* Copia el ejemplo de la galería de matplotlib http://matplotlib.org/examples/pylab_examples/shading_example.html y modificalo para que se grafique dentro de la libreta. Una vez funcionando, comenta *cada linea de código* dejando bien claro **en español y con tus palabras** que es lo que hace cada una de las lineas."
   ]
  },
  {
   "cell_type": "code",
   "execution_count": null,
   "metadata": {
    "collapsed": true
   },
   "outputs": [],
   "source": [
    "#Agrega aqui el primer problema y resualve cada problema en una celda independiente."
   ]
  }
 ],
 "metadata": {
  "kernelspec": {
   "display_name": "Python 3",
   "language": "python",
   "name": "python3"
  },
  "language_info": {
   "codemirror_mode": {
    "name": "ipython",
    "version": 3
   },
   "file_extension": ".py",
   "mimetype": "text/x-python",
   "name": "python",
   "nbconvert_exporter": "python",
   "pygments_lexer": "ipython3",
   "version": "3.6.3"
  }
 },
 "nbformat": 4,
 "nbformat_minor": 2
}
